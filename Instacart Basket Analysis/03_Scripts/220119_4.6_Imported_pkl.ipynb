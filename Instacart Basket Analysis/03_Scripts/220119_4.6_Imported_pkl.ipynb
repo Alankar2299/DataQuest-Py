{
 "cells": [
  {
   "cell_type": "markdown",
   "id": "032e8ed9",
   "metadata": {},
   "source": [
    "# Importing pkl file and further data refining"
   ]
  },
  {
   "cell_type": "code",
   "execution_count": 3,
   "id": "69ea83a0",
   "metadata": {},
   "outputs": [],
   "source": [
    "#importing data\n",
    "import pandas as pd\n",
    "import numpy as np\n",
    "import os"
   ]
  },
  {
   "cell_type": "code",
   "execution_count": 4,
   "id": "a8c0e33e",
   "metadata": {},
   "outputs": [],
   "source": [
    "#import pkl file\n",
    "orders_products_combined = pd.read_pickle(r'D:\\PythonPrjkt\\Instacart Basket Analysis\\02_Data\\2.7_Prepared data\\orders_products_combined.pkl')"
   ]
  },
  {
   "cell_type": "code",
   "execution_count": 5,
   "id": "5dd68f9a",
   "metadata": {},
   "outputs": [
    {
     "data": {
      "text/plain": [
       "(290884, 11)"
      ]
     },
     "execution_count": 5,
     "metadata": {},
     "output_type": "execute_result"
    }
   ],
   "source": [
    "#check the shape\n",
    "orders_products_combined.shape"
   ]
  },
  {
   "cell_type": "code",
   "execution_count": 6,
   "id": "991583c7",
   "metadata": {},
   "outputs": [],
   "source": [
    "df_prods = pd.read_csv(r'D:\\PythonPrjkt\\Instacart Basket Analysis\\02_Data\\2.7_Prepared data\\products_checked.csv',index_col = False)"
   ]
  },
  {
   "cell_type": "code",
   "execution_count": 7,
   "id": "b885b52b",
   "metadata": {},
   "outputs": [
    {
     "data": {
      "text/plain": [
       "(49672, 6)"
      ]
     },
     "execution_count": 7,
     "metadata": {},
     "output_type": "execute_result"
    }
   ],
   "source": [
    "df_prods.shape"
   ]
  },
  {
   "cell_type": "code",
   "execution_count": 12,
   "id": "5dd030cd",
   "metadata": {},
   "outputs": [
    {
     "data": {
      "text/html": [
       "<div>\n",
       "<style scoped>\n",
       "    .dataframe tbody tr th:only-of-type {\n",
       "        vertical-align: middle;\n",
       "    }\n",
       "\n",
       "    .dataframe tbody tr th {\n",
       "        vertical-align: top;\n",
       "    }\n",
       "\n",
       "    .dataframe thead th {\n",
       "        text-align: right;\n",
       "    }\n",
       "</style>\n",
       "<table border=\"1\" class=\"dataframe\">\n",
       "  <thead>\n",
       "    <tr style=\"text-align: right;\">\n",
       "      <th></th>\n",
       "      <th>Unnamed: 0</th>\n",
       "      <th>product_id</th>\n",
       "      <th>product_name</th>\n",
       "      <th>aisle_id</th>\n",
       "      <th>department_id</th>\n",
       "      <th>prices</th>\n",
       "    </tr>\n",
       "  </thead>\n",
       "  <tbody>\n",
       "    <tr>\n",
       "      <th>0</th>\n",
       "      <td>0</td>\n",
       "      <td>1</td>\n",
       "      <td>Chocolate Sandwich Cookies</td>\n",
       "      <td>61</td>\n",
       "      <td>19</td>\n",
       "      <td>5.8</td>\n",
       "    </tr>\n",
       "    <tr>\n",
       "      <th>1</th>\n",
       "      <td>1</td>\n",
       "      <td>2</td>\n",
       "      <td>All-Seasons Salt</td>\n",
       "      <td>104</td>\n",
       "      <td>13</td>\n",
       "      <td>9.3</td>\n",
       "    </tr>\n",
       "    <tr>\n",
       "      <th>2</th>\n",
       "      <td>2</td>\n",
       "      <td>3</td>\n",
       "      <td>Robust Golden Unsweetened Oolong Tea</td>\n",
       "      <td>94</td>\n",
       "      <td>7</td>\n",
       "      <td>4.5</td>\n",
       "    </tr>\n",
       "    <tr>\n",
       "      <th>3</th>\n",
       "      <td>3</td>\n",
       "      <td>4</td>\n",
       "      <td>Smart Ones Classic Favorites Mini Rigatoni Wit...</td>\n",
       "      <td>38</td>\n",
       "      <td>1</td>\n",
       "      <td>10.5</td>\n",
       "    </tr>\n",
       "    <tr>\n",
       "      <th>4</th>\n",
       "      <td>4</td>\n",
       "      <td>5</td>\n",
       "      <td>Green Chile Anytime Sauce</td>\n",
       "      <td>5</td>\n",
       "      <td>13</td>\n",
       "      <td>4.3</td>\n",
       "    </tr>\n",
       "  </tbody>\n",
       "</table>\n",
       "</div>"
      ],
      "text/plain": [
       "   Unnamed: 0  product_id                                       product_name  \\\n",
       "0           0           1                         Chocolate Sandwich Cookies   \n",
       "1           1           2                                   All-Seasons Salt   \n",
       "2           2           3               Robust Golden Unsweetened Oolong Tea   \n",
       "3           3           4  Smart Ones Classic Favorites Mini Rigatoni Wit...   \n",
       "4           4           5                          Green Chile Anytime Sauce   \n",
       "\n",
       "   aisle_id  department_id  prices  \n",
       "0        61             19     5.8  \n",
       "1       104             13     9.3  \n",
       "2        94              7     4.5  \n",
       "3        38              1    10.5  \n",
       "4         5             13     4.3  "
      ]
     },
     "execution_count": 12,
     "metadata": {},
     "output_type": "execute_result"
    }
   ],
   "source": [
    "df_prods.head()"
   ]
  },
  {
   "cell_type": "code",
   "execution_count": 14,
   "id": "8f2c9256",
   "metadata": {},
   "outputs": [
    {
     "data": {
      "text/html": [
       "<div>\n",
       "<style scoped>\n",
       "    .dataframe tbody tr th:only-of-type {\n",
       "        vertical-align: middle;\n",
       "    }\n",
       "\n",
       "    .dataframe tbody tr th {\n",
       "        vertical-align: top;\n",
       "    }\n",
       "\n",
       "    .dataframe thead th {\n",
       "        text-align: right;\n",
       "    }\n",
       "</style>\n",
       "<table border=\"1\" class=\"dataframe\">\n",
       "  <thead>\n",
       "    <tr style=\"text-align: right;\">\n",
       "      <th></th>\n",
       "      <th>Unnamed: 0</th>\n",
       "      <th>order_id</th>\n",
       "      <th>user_id</th>\n",
       "      <th>order_number</th>\n",
       "      <th>orders_day_of_week</th>\n",
       "      <th>Order_time_of_day</th>\n",
       "      <th>days_since_prior_order</th>\n",
       "      <th>product_id</th>\n",
       "      <th>add_to_cart_order</th>\n",
       "      <th>reordered</th>\n",
       "      <th>_merge</th>\n",
       "    </tr>\n",
       "  </thead>\n",
       "  <tbody>\n",
       "    <tr>\n",
       "      <th>0</th>\n",
       "      <td>42</td>\n",
       "      <td>94891</td>\n",
       "      <td>4</td>\n",
       "      <td>4</td>\n",
       "      <td>5</td>\n",
       "      <td>13</td>\n",
       "      <td>15.0</td>\n",
       "      <td>22199</td>\n",
       "      <td>1</td>\n",
       "      <td>0</td>\n",
       "      <td>both</td>\n",
       "    </tr>\n",
       "    <tr>\n",
       "      <th>1</th>\n",
       "      <td>42</td>\n",
       "      <td>94891</td>\n",
       "      <td>4</td>\n",
       "      <td>4</td>\n",
       "      <td>5</td>\n",
       "      <td>13</td>\n",
       "      <td>15.0</td>\n",
       "      <td>25146</td>\n",
       "      <td>2</td>\n",
       "      <td>0</td>\n",
       "      <td>both</td>\n",
       "    </tr>\n",
       "    <tr>\n",
       "      <th>2</th>\n",
       "      <td>70</td>\n",
       "      <td>23391</td>\n",
       "      <td>7</td>\n",
       "      <td>17</td>\n",
       "      <td>0</td>\n",
       "      <td>10</td>\n",
       "      <td>28.0</td>\n",
       "      <td>13198</td>\n",
       "      <td>1</td>\n",
       "      <td>1</td>\n",
       "      <td>both</td>\n",
       "    </tr>\n",
       "    <tr>\n",
       "      <th>3</th>\n",
       "      <td>70</td>\n",
       "      <td>23391</td>\n",
       "      <td>7</td>\n",
       "      <td>17</td>\n",
       "      <td>0</td>\n",
       "      <td>10</td>\n",
       "      <td>28.0</td>\n",
       "      <td>42803</td>\n",
       "      <td>2</td>\n",
       "      <td>1</td>\n",
       "      <td>both</td>\n",
       "    </tr>\n",
       "    <tr>\n",
       "      <th>4</th>\n",
       "      <td>70</td>\n",
       "      <td>23391</td>\n",
       "      <td>7</td>\n",
       "      <td>17</td>\n",
       "      <td>0</td>\n",
       "      <td>10</td>\n",
       "      <td>28.0</td>\n",
       "      <td>8277</td>\n",
       "      <td>3</td>\n",
       "      <td>1</td>\n",
       "      <td>both</td>\n",
       "    </tr>\n",
       "  </tbody>\n",
       "</table>\n",
       "</div>"
      ],
      "text/plain": [
       "   Unnamed: 0  order_id  user_id  order_number  orders_day_of_week  \\\n",
       "0          42     94891        4             4                   5   \n",
       "1          42     94891        4             4                   5   \n",
       "2          70     23391        7            17                   0   \n",
       "3          70     23391        7            17                   0   \n",
       "4          70     23391        7            17                   0   \n",
       "\n",
       "   Order_time_of_day  days_since_prior_order  product_id  add_to_cart_order  \\\n",
       "0                 13                    15.0       22199                  1   \n",
       "1                 13                    15.0       25146                  2   \n",
       "2                 10                    28.0       13198                  1   \n",
       "3                 10                    28.0       42803                  2   \n",
       "4                 10                    28.0        8277                  3   \n",
       "\n",
       "   reordered _merge  \n",
       "0          0   both  \n",
       "1          0   both  \n",
       "2          1   both  \n",
       "3          1   both  \n",
       "4          1   both  "
      ]
     },
     "execution_count": 14,
     "metadata": {},
     "output_type": "execute_result"
    }
   ],
   "source": [
    "orders_products_combined.head()"
   ]
  },
  {
   "cell_type": "markdown",
   "id": "79fe2baa",
   "metadata": {},
   "source": [
    "### merge orders_products_combined with products_checked"
   ]
  },
  {
   "cell_type": "markdown",
   "id": "8d2de1bc",
   "metadata": {},
   "source": [
    "### drop the '_merge' column as it will be created again in the next merge step and cause conflict"
   ]
  },
  {
   "cell_type": "code",
   "execution_count": 9,
   "id": "473f59f3",
   "metadata": {},
   "outputs": [],
   "source": [
    "orders_products_combined = orders_products_combined.drop(columns = ['_merge'])"
   ]
  },
  {
   "cell_type": "code",
   "execution_count": 10,
   "id": "6c9e5430",
   "metadata": {},
   "outputs": [],
   "source": [
    "#merge on product_id\n",
    "orders_products_merged = orders_products_combined.merge(df_prods, on = 'product_id', indicator = True)"
   ]
  },
  {
   "cell_type": "code",
   "execution_count": 22,
   "id": "9a569633",
   "metadata": {},
   "outputs": [
    {
     "data": {
      "text/html": [
       "<div>\n",
       "<style scoped>\n",
       "    .dataframe tbody tr th:only-of-type {\n",
       "        vertical-align: middle;\n",
       "    }\n",
       "\n",
       "    .dataframe tbody tr th {\n",
       "        vertical-align: top;\n",
       "    }\n",
       "\n",
       "    .dataframe thead th {\n",
       "        text-align: right;\n",
       "    }\n",
       "</style>\n",
       "<table border=\"1\" class=\"dataframe\">\n",
       "  <thead>\n",
       "    <tr style=\"text-align: right;\">\n",
       "      <th></th>\n",
       "      <th>Unnamed: 0_x</th>\n",
       "      <th>order_id</th>\n",
       "      <th>user_id</th>\n",
       "      <th>order_number</th>\n",
       "      <th>orders_day_of_week</th>\n",
       "      <th>Order_time_of_day</th>\n",
       "      <th>days_since_prior_order</th>\n",
       "      <th>product_id</th>\n",
       "      <th>add_to_cart_order</th>\n",
       "      <th>reordered</th>\n",
       "      <th>Unnamed: 0_y</th>\n",
       "      <th>product_name</th>\n",
       "      <th>aisle_id</th>\n",
       "      <th>department_id</th>\n",
       "      <th>prices</th>\n",
       "      <th>_merge</th>\n",
       "    </tr>\n",
       "  </thead>\n",
       "  <tbody>\n",
       "    <tr>\n",
       "      <th>0</th>\n",
       "      <td>42</td>\n",
       "      <td>94891</td>\n",
       "      <td>4</td>\n",
       "      <td>4</td>\n",
       "      <td>5</td>\n",
       "      <td>13</td>\n",
       "      <td>15.0</td>\n",
       "      <td>22199</td>\n",
       "      <td>1</td>\n",
       "      <td>0</td>\n",
       "      <td>22200</td>\n",
       "      <td>Extra-Dry Cava</td>\n",
       "      <td>134</td>\n",
       "      <td>5</td>\n",
       "      <td>8.9</td>\n",
       "      <td>both</td>\n",
       "    </tr>\n",
       "    <tr>\n",
       "      <th>1</th>\n",
       "      <td>787017</td>\n",
       "      <td>31925</td>\n",
       "      <td>47329</td>\n",
       "      <td>4</td>\n",
       "      <td>3</td>\n",
       "      <td>10</td>\n",
       "      <td>12.0</td>\n",
       "      <td>22199</td>\n",
       "      <td>1</td>\n",
       "      <td>0</td>\n",
       "      <td>22200</td>\n",
       "      <td>Extra-Dry Cava</td>\n",
       "      <td>134</td>\n",
       "      <td>5</td>\n",
       "      <td>8.9</td>\n",
       "      <td>both</td>\n",
       "    </tr>\n",
       "    <tr>\n",
       "      <th>2</th>\n",
       "      <td>42</td>\n",
       "      <td>94891</td>\n",
       "      <td>4</td>\n",
       "      <td>4</td>\n",
       "      <td>5</td>\n",
       "      <td>13</td>\n",
       "      <td>15.0</td>\n",
       "      <td>25146</td>\n",
       "      <td>2</td>\n",
       "      <td>0</td>\n",
       "      <td>25147</td>\n",
       "      <td>Original Orange Juice</td>\n",
       "      <td>31</td>\n",
       "      <td>7</td>\n",
       "      <td>8.4</td>\n",
       "      <td>both</td>\n",
       "    </tr>\n",
       "    <tr>\n",
       "      <th>3</th>\n",
       "      <td>6612</td>\n",
       "      <td>95113</td>\n",
       "      <td>410</td>\n",
       "      <td>2</td>\n",
       "      <td>1</td>\n",
       "      <td>18</td>\n",
       "      <td>7.0</td>\n",
       "      <td>25146</td>\n",
       "      <td>18</td>\n",
       "      <td>0</td>\n",
       "      <td>25147</td>\n",
       "      <td>Original Orange Juice</td>\n",
       "      <td>31</td>\n",
       "      <td>7</td>\n",
       "      <td>8.4</td>\n",
       "      <td>both</td>\n",
       "    </tr>\n",
       "    <tr>\n",
       "      <th>4</th>\n",
       "      <td>15832</td>\n",
       "      <td>83780</td>\n",
       "      <td>982</td>\n",
       "      <td>3</td>\n",
       "      <td>0</td>\n",
       "      <td>20</td>\n",
       "      <td>23.0</td>\n",
       "      <td>25146</td>\n",
       "      <td>32</td>\n",
       "      <td>0</td>\n",
       "      <td>25147</td>\n",
       "      <td>Original Orange Juice</td>\n",
       "      <td>31</td>\n",
       "      <td>7</td>\n",
       "      <td>8.4</td>\n",
       "      <td>both</td>\n",
       "    </tr>\n",
       "  </tbody>\n",
       "</table>\n",
       "</div>"
      ],
      "text/plain": [
       "   Unnamed: 0_x  order_id  user_id  order_number  orders_day_of_week  \\\n",
       "0            42     94891        4             4                   5   \n",
       "1        787017     31925    47329             4                   3   \n",
       "2            42     94891        4             4                   5   \n",
       "3          6612     95113      410             2                   1   \n",
       "4         15832     83780      982             3                   0   \n",
       "\n",
       "   Order_time_of_day  days_since_prior_order  product_id  add_to_cart_order  \\\n",
       "0                 13                    15.0       22199                  1   \n",
       "1                 10                    12.0       22199                  1   \n",
       "2                 13                    15.0       25146                  2   \n",
       "3                 18                     7.0       25146                 18   \n",
       "4                 20                    23.0       25146                 32   \n",
       "\n",
       "   reordered  Unnamed: 0_y           product_name  aisle_id  department_id  \\\n",
       "0          0         22200         Extra-Dry Cava       134              5   \n",
       "1          0         22200         Extra-Dry Cava       134              5   \n",
       "2          0         25147  Original Orange Juice        31              7   \n",
       "3          0         25147  Original Orange Juice        31              7   \n",
       "4          0         25147  Original Orange Juice        31              7   \n",
       "\n",
       "   prices _merge  \n",
       "0     8.9   both  \n",
       "1     8.9   both  \n",
       "2     8.4   both  \n",
       "3     8.4   both  \n",
       "4     8.4   both  "
      ]
     },
     "execution_count": 22,
     "metadata": {},
     "output_type": "execute_result"
    }
   ],
   "source": [
    "orders_products_merged.head()"
   ]
  },
  {
   "cell_type": "code",
   "execution_count": 11,
   "id": "7fd4ab78",
   "metadata": {},
   "outputs": [
    {
     "data": {
      "text/plain": [
       "(290620, 16)"
      ]
     },
     "execution_count": 11,
     "metadata": {},
     "output_type": "execute_result"
    }
   ],
   "source": [
    "orders_products_merged.shape"
   ]
  },
  {
   "cell_type": "code",
   "execution_count": 25,
   "id": "3478678c",
   "metadata": {},
   "outputs": [
    {
     "data": {
      "text/plain": [
       "both          290620\n",
       "left_only          0\n",
       "right_only         0\n",
       "Name: _merge, dtype: int64"
      ]
     },
     "execution_count": 25,
     "metadata": {},
     "output_type": "execute_result"
    }
   ],
   "source": [
    "orders_products_merged['_merge'].value_counts()"
   ]
  },
  {
   "cell_type": "markdown",
   "id": "fde1ae82",
   "metadata": {},
   "source": [
    "## due to the small data size (290620 rows only) I decided to export it as CSV but I will do .pkl export as well"
   ]
  },
  {
   "cell_type": "code",
   "execution_count": 27,
   "id": "e68f328c",
   "metadata": {},
   "outputs": [],
   "source": [
    "# due to the small data size (290620 rows only) I decided to export it as CSV but I will do .pkl export as well\n",
    "orders_products_merged.to_csv(os.path.join(r'D:\\PythonPrjkt\\Instacart Basket Analysis\\02_Data\\2.7_Prepared data','Orders_products_merged.csv'))"
   ]
  },
  {
   "cell_type": "code",
   "execution_count": 28,
   "id": "a5707e65",
   "metadata": {},
   "outputs": [],
   "source": [
    "# export to pickle\n",
    "\n",
    "orders_products_merged.to_pickle(os.path.join(r'D:\\PythonPrjkt\\Instacart Basket Analysis\\02_Data\\2.7_Prepared data','Orders_products_merged.pkl'))"
   ]
  },
  {
   "cell_type": "markdown",
   "id": "608f21c2",
   "metadata": {},
   "source": [
    "### End of task"
   ]
  },
  {
   "cell_type": "code",
   "execution_count": null,
   "id": "3c39089d",
   "metadata": {},
   "outputs": [],
   "source": []
  }
 ],
 "metadata": {
  "kernelspec": {
   "display_name": "Python 3 (ipykernel)",
   "language": "python",
   "name": "python3"
  },
  "language_info": {
   "codemirror_mode": {
    "name": "ipython",
    "version": 3
   },
   "file_extension": ".py",
   "mimetype": "text/x-python",
   "name": "python",
   "nbconvert_exporter": "python",
   "pygments_lexer": "ipython3",
   "version": "3.9.7"
  }
 },
 "nbformat": 4,
 "nbformat_minor": 5
}
