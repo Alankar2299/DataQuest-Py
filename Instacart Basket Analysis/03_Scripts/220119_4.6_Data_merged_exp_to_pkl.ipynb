{
 "cells": [
  {
   "cell_type": "markdown",
   "id": "3374722f",
   "metadata": {},
   "source": [
    "# Merging Insta cart Data"
   ]
  },
  {
   "cell_type": "code",
   "execution_count": 2,
   "id": "362d4dfb",
   "metadata": {},
   "outputs": [],
   "source": [
    "#Importing libraries\n",
    "import pandas as pd\n",
    "import numpy as np\n",
    "import os\n",
    "import random"
   ]
  },
  {
   "cell_type": "markdown",
   "id": "28f92c0f",
   "metadata": {},
   "source": [
    "## I am forced to use only the first million rows of the original dataset due to Jupyter notebook giving memory error"
   ]
  },
  {
   "cell_type": "code",
   "execution_count": 3,
   "id": "9d161276",
   "metadata": {},
   "outputs": [],
   "source": [
    "#Only selecting 1000000 rows to counter the memory error\n",
    "df_ords_prior= pd.read_csv(r'D:\\PythonPrjkt\\Instacart Basket Analysis\\02_Data\\2.1_original Data\\order_products__prior.csv',index_col = False,nrows = 1000000)"
   ]
  },
  {
   "cell_type": "code",
   "execution_count": 4,
   "id": "038512bb",
   "metadata": {},
   "outputs": [
    {
     "data": {
      "text/plain": [
       "(1000000, 4)"
      ]
     },
     "execution_count": 4,
     "metadata": {},
     "output_type": "execute_result"
    }
   ],
   "source": [
    "df_ords_prior.shape"
   ]
  },
  {
   "cell_type": "code",
   "execution_count": 5,
   "id": "2a9a5b2b",
   "metadata": {},
   "outputs": [],
   "source": [
    "##Only selecting 1000000 rows to counter the memory error\n",
    "df_ords = pd.read_csv(r'D:\\PythonPrjkt\\Instacart Basket Analysis\\02_Data\\2.7_Prepared data\\orders_wrangled.csv',index_col = False,nrows = 1000000)"
   ]
  },
  {
   "cell_type": "code",
   "execution_count": 8,
   "id": "05c38415",
   "metadata": {},
   "outputs": [
    {
     "data": {
      "text/plain": [
       "(1000000, 7)"
      ]
     },
     "execution_count": 8,
     "metadata": {},
     "output_type": "execute_result"
    }
   ],
   "source": [
    "df_ords.shape"
   ]
  },
  {
   "cell_type": "markdown",
   "id": "0d8b1aa9",
   "metadata": {},
   "source": [
    "## merging 'order_products__prior' with 'orders_wrangled'"
   ]
  },
  {
   "cell_type": "code",
   "execution_count": 9,
   "id": "50a50c19",
   "metadata": {},
   "outputs": [],
   "source": [
    "df_merged_large = df_ords.merge(df_ords_prior, on = 'order_id', indicator = True)"
   ]
  },
  {
   "cell_type": "code",
   "execution_count": 10,
   "id": "6193e957",
   "metadata": {},
   "outputs": [
    {
     "data": {
      "text/html": [
       "<div>\n",
       "<style scoped>\n",
       "    .dataframe tbody tr th:only-of-type {\n",
       "        vertical-align: middle;\n",
       "    }\n",
       "\n",
       "    .dataframe tbody tr th {\n",
       "        vertical-align: top;\n",
       "    }\n",
       "\n",
       "    .dataframe thead th {\n",
       "        text-align: right;\n",
       "    }\n",
       "</style>\n",
       "<table border=\"1\" class=\"dataframe\">\n",
       "  <thead>\n",
       "    <tr style=\"text-align: right;\">\n",
       "      <th></th>\n",
       "      <th>Unnamed: 0</th>\n",
       "      <th>order_id</th>\n",
       "      <th>user_id</th>\n",
       "      <th>order_number</th>\n",
       "      <th>orders_day_of_week</th>\n",
       "      <th>Order_time_of_day</th>\n",
       "      <th>days_since_prior_order</th>\n",
       "      <th>product_id</th>\n",
       "      <th>add_to_cart_order</th>\n",
       "      <th>reordered</th>\n",
       "      <th>_merge</th>\n",
       "    </tr>\n",
       "  </thead>\n",
       "  <tbody>\n",
       "    <tr>\n",
       "      <th>0</th>\n",
       "      <td>42</td>\n",
       "      <td>94891</td>\n",
       "      <td>4</td>\n",
       "      <td>4</td>\n",
       "      <td>5</td>\n",
       "      <td>13</td>\n",
       "      <td>15.0</td>\n",
       "      <td>22199</td>\n",
       "      <td>1</td>\n",
       "      <td>0</td>\n",
       "      <td>both</td>\n",
       "    </tr>\n",
       "    <tr>\n",
       "      <th>1</th>\n",
       "      <td>42</td>\n",
       "      <td>94891</td>\n",
       "      <td>4</td>\n",
       "      <td>4</td>\n",
       "      <td>5</td>\n",
       "      <td>13</td>\n",
       "      <td>15.0</td>\n",
       "      <td>25146</td>\n",
       "      <td>2</td>\n",
       "      <td>0</td>\n",
       "      <td>both</td>\n",
       "    </tr>\n",
       "    <tr>\n",
       "      <th>2</th>\n",
       "      <td>70</td>\n",
       "      <td>23391</td>\n",
       "      <td>7</td>\n",
       "      <td>17</td>\n",
       "      <td>0</td>\n",
       "      <td>10</td>\n",
       "      <td>28.0</td>\n",
       "      <td>13198</td>\n",
       "      <td>1</td>\n",
       "      <td>1</td>\n",
       "      <td>both</td>\n",
       "    </tr>\n",
       "    <tr>\n",
       "      <th>3</th>\n",
       "      <td>70</td>\n",
       "      <td>23391</td>\n",
       "      <td>7</td>\n",
       "      <td>17</td>\n",
       "      <td>0</td>\n",
       "      <td>10</td>\n",
       "      <td>28.0</td>\n",
       "      <td>42803</td>\n",
       "      <td>2</td>\n",
       "      <td>1</td>\n",
       "      <td>both</td>\n",
       "    </tr>\n",
       "    <tr>\n",
       "      <th>4</th>\n",
       "      <td>70</td>\n",
       "      <td>23391</td>\n",
       "      <td>7</td>\n",
       "      <td>17</td>\n",
       "      <td>0</td>\n",
       "      <td>10</td>\n",
       "      <td>28.0</td>\n",
       "      <td>8277</td>\n",
       "      <td>3</td>\n",
       "      <td>1</td>\n",
       "      <td>both</td>\n",
       "    </tr>\n",
       "    <tr>\n",
       "      <th>...</th>\n",
       "      <td>...</td>\n",
       "      <td>...</td>\n",
       "      <td>...</td>\n",
       "      <td>...</td>\n",
       "      <td>...</td>\n",
       "      <td>...</td>\n",
       "      <td>...</td>\n",
       "      <td>...</td>\n",
       "      <td>...</td>\n",
       "      <td>...</td>\n",
       "      <td>...</td>\n",
       "    </tr>\n",
       "    <tr>\n",
       "      <th>290879</th>\n",
       "      <td>999982</td>\n",
       "      <td>27561</td>\n",
       "      <td>60078</td>\n",
       "      <td>18</td>\n",
       "      <td>1</td>\n",
       "      <td>14</td>\n",
       "      <td>13.0</td>\n",
       "      <td>13639</td>\n",
       "      <td>9</td>\n",
       "      <td>0</td>\n",
       "      <td>both</td>\n",
       "    </tr>\n",
       "    <tr>\n",
       "      <th>290880</th>\n",
       "      <td>999982</td>\n",
       "      <td>27561</td>\n",
       "      <td>60078</td>\n",
       "      <td>18</td>\n",
       "      <td>1</td>\n",
       "      <td>14</td>\n",
       "      <td>13.0</td>\n",
       "      <td>26073</td>\n",
       "      <td>10</td>\n",
       "      <td>0</td>\n",
       "      <td>both</td>\n",
       "    </tr>\n",
       "    <tr>\n",
       "      <th>290881</th>\n",
       "      <td>999982</td>\n",
       "      <td>27561</td>\n",
       "      <td>60078</td>\n",
       "      <td>18</td>\n",
       "      <td>1</td>\n",
       "      <td>14</td>\n",
       "      <td>13.0</td>\n",
       "      <td>37096</td>\n",
       "      <td>11</td>\n",
       "      <td>0</td>\n",
       "      <td>both</td>\n",
       "    </tr>\n",
       "    <tr>\n",
       "      <th>290882</th>\n",
       "      <td>999982</td>\n",
       "      <td>27561</td>\n",
       "      <td>60078</td>\n",
       "      <td>18</td>\n",
       "      <td>1</td>\n",
       "      <td>14</td>\n",
       "      <td>13.0</td>\n",
       "      <td>4562</td>\n",
       "      <td>12</td>\n",
       "      <td>0</td>\n",
       "      <td>both</td>\n",
       "    </tr>\n",
       "    <tr>\n",
       "      <th>290883</th>\n",
       "      <td>999982</td>\n",
       "      <td>27561</td>\n",
       "      <td>60078</td>\n",
       "      <td>18</td>\n",
       "      <td>1</td>\n",
       "      <td>14</td>\n",
       "      <td>13.0</td>\n",
       "      <td>23734</td>\n",
       "      <td>13</td>\n",
       "      <td>1</td>\n",
       "      <td>both</td>\n",
       "    </tr>\n",
       "  </tbody>\n",
       "</table>\n",
       "<p>290884 rows × 11 columns</p>\n",
       "</div>"
      ],
      "text/plain": [
       "        Unnamed: 0  order_id  user_id  order_number  orders_day_of_week  \\\n",
       "0               42     94891        4             4                   5   \n",
       "1               42     94891        4             4                   5   \n",
       "2               70     23391        7            17                   0   \n",
       "3               70     23391        7            17                   0   \n",
       "4               70     23391        7            17                   0   \n",
       "...            ...       ...      ...           ...                 ...   \n",
       "290879      999982     27561    60078            18                   1   \n",
       "290880      999982     27561    60078            18                   1   \n",
       "290881      999982     27561    60078            18                   1   \n",
       "290882      999982     27561    60078            18                   1   \n",
       "290883      999982     27561    60078            18                   1   \n",
       "\n",
       "        Order_time_of_day  days_since_prior_order  product_id  \\\n",
       "0                      13                    15.0       22199   \n",
       "1                      13                    15.0       25146   \n",
       "2                      10                    28.0       13198   \n",
       "3                      10                    28.0       42803   \n",
       "4                      10                    28.0        8277   \n",
       "...                   ...                     ...         ...   \n",
       "290879                 14                    13.0       13639   \n",
       "290880                 14                    13.0       26073   \n",
       "290881                 14                    13.0       37096   \n",
       "290882                 14                    13.0        4562   \n",
       "290883                 14                    13.0       23734   \n",
       "\n",
       "        add_to_cart_order  reordered _merge  \n",
       "0                       1          0   both  \n",
       "1                       2          0   both  \n",
       "2                       1          1   both  \n",
       "3                       2          1   both  \n",
       "4                       3          1   both  \n",
       "...                   ...        ...    ...  \n",
       "290879                  9          0   both  \n",
       "290880                 10          0   both  \n",
       "290881                 11          0   both  \n",
       "290882                 12          0   both  \n",
       "290883                 13          1   both  \n",
       "\n",
       "[290884 rows x 11 columns]"
      ]
     },
     "execution_count": 10,
     "metadata": {},
     "output_type": "execute_result"
    }
   ],
   "source": [
    "df_merged_large"
   ]
  },
  {
   "cell_type": "code",
   "execution_count": null,
   "id": "6b9f20aa",
   "metadata": {},
   "outputs": [],
   "source": [
    "# Export merged fle to pickle format\n",
    "\n",
    "df_merged_large.to_pickle(os.path.join(r'D:\\PythonPrjkt\\Instacart Basket Analysis\\02_Data\\2.7_Prepared data', 'orders_products_combined.pkl'))"
   ]
  },
  {
   "cell_type": "code",
   "execution_count": 11,
   "id": "9a6fb1e2",
   "metadata": {},
   "outputs": [
    {
     "data": {
      "text/plain": [
       "(290884, 11)"
      ]
     },
     "execution_count": 11,
     "metadata": {},
     "output_type": "execute_result"
    }
   ],
   "source": [
    "df_merged_large.shape"
   ]
  },
  {
   "cell_type": "markdown",
   "id": "e745bddf",
   "metadata": {},
   "source": [
    "### end of task"
   ]
  },
  {
   "cell_type": "markdown",
   "id": "83e88603",
   "metadata": {},
   "source": [
    "### Contents\n",
    "### Merge on a condition"
   ]
  },
  {
   "cell_type": "code",
   "execution_count": null,
   "id": "07c22811",
   "metadata": {},
   "outputs": [],
   "source": []
  }
 ],
 "metadata": {
  "kernelspec": {
   "display_name": "Python 3 (ipykernel)",
   "language": "python",
   "name": "python3"
  },
  "language_info": {
   "codemirror_mode": {
    "name": "ipython",
    "version": 3
   },
   "file_extension": ".py",
   "mimetype": "text/x-python",
   "name": "python",
   "nbconvert_exporter": "python",
   "pygments_lexer": "ipython3",
   "version": "3.9.7"
  }
 },
 "nbformat": 4,
 "nbformat_minor": 5
}
