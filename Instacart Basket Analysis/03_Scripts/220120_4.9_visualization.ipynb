{
 "cells": [
  {
   "cell_type": "markdown",
   "id": "7cbedf04",
   "metadata": {},
   "source": [
    " # import data ibraries"
   ]
  },
  {
   "cell_type": "code",
   "execution_count": 1,
   "id": "3cc300b0",
   "metadata": {},
   "outputs": [],
   "source": [
    "import pandas as pd\n",
    "import numpy as np\n",
    "import os\n",
    "import matplotlib.pyplot as plt\n",
    "import seaborn as sns\n",
    "import scipy"
   ]
  },
  {
   "cell_type": "code",
   "execution_count": 2,
   "id": "b7e68169",
   "metadata": {},
   "outputs": [],
   "source": [
    "df = pd.read_pickle(r'D:\\PythonPrjkt\\Instacart Basket Analysis\\02_Data\\2.7_Prepared data\\Ex_8_Client_Query.pkl')"
   ]
  },
  {
   "cell_type": "code",
   "execution_count": 3,
   "id": "0ccf8949",
   "metadata": {},
   "outputs": [
    {
     "data": {
      "text/html": [
       "<div>\n",
       "<style scoped>\n",
       "    .dataframe tbody tr th:only-of-type {\n",
       "        vertical-align: middle;\n",
       "    }\n",
       "\n",
       "    .dataframe tbody tr th {\n",
       "        vertical-align: top;\n",
       "    }\n",
       "\n",
       "    .dataframe thead th {\n",
       "        text-align: right;\n",
       "    }\n",
       "</style>\n",
       "<table border=\"1\" class=\"dataframe\">\n",
       "  <thead>\n",
       "    <tr style=\"text-align: right;\">\n",
       "      <th></th>\n",
       "      <th>Unnamed: 0_x</th>\n",
       "      <th>order_id</th>\n",
       "      <th>user_id</th>\n",
       "      <th>order_number</th>\n",
       "      <th>orders_day_of_week</th>\n",
       "      <th>Order_time_of_day</th>\n",
       "      <th>days_since_prior_order</th>\n",
       "      <th>product_id</th>\n",
       "      <th>add_to_cart_order</th>\n",
       "      <th>reordered</th>\n",
       "      <th>...</th>\n",
       "      <th>aisle_id</th>\n",
       "      <th>department_id</th>\n",
       "      <th>prices</th>\n",
       "      <th>_merge</th>\n",
       "      <th>max_order</th>\n",
       "      <th>loyalty_flag</th>\n",
       "      <th>user_avg_price</th>\n",
       "      <th>spending_habit</th>\n",
       "      <th>median_order_duration</th>\n",
       "      <th>order_frequency</th>\n",
       "    </tr>\n",
       "  </thead>\n",
       "  <tbody>\n",
       "    <tr>\n",
       "      <th>0</th>\n",
       "      <td>42</td>\n",
       "      <td>94891</td>\n",
       "      <td>4</td>\n",
       "      <td>4</td>\n",
       "      <td>5</td>\n",
       "      <td>13</td>\n",
       "      <td>15.0</td>\n",
       "      <td>22199</td>\n",
       "      <td>1</td>\n",
       "      <td>0</td>\n",
       "      <td>...</td>\n",
       "      <td>134</td>\n",
       "      <td>5</td>\n",
       "      <td>8.9</td>\n",
       "      <td>both</td>\n",
       "      <td>4</td>\n",
       "      <td>New customer</td>\n",
       "      <td>8.650000</td>\n",
       "      <td>Lower spender</td>\n",
       "      <td>15.0</td>\n",
       "      <td>Regular customer</td>\n",
       "    </tr>\n",
       "    <tr>\n",
       "      <th>1</th>\n",
       "      <td>787017</td>\n",
       "      <td>31925</td>\n",
       "      <td>47329</td>\n",
       "      <td>4</td>\n",
       "      <td>3</td>\n",
       "      <td>10</td>\n",
       "      <td>12.0</td>\n",
       "      <td>22199</td>\n",
       "      <td>1</td>\n",
       "      <td>0</td>\n",
       "      <td>...</td>\n",
       "      <td>134</td>\n",
       "      <td>5</td>\n",
       "      <td>8.9</td>\n",
       "      <td>both</td>\n",
       "      <td>4</td>\n",
       "      <td>New customer</td>\n",
       "      <td>9.200000</td>\n",
       "      <td>Lower spender</td>\n",
       "      <td>12.0</td>\n",
       "      <td>Regular customer</td>\n",
       "    </tr>\n",
       "    <tr>\n",
       "      <th>2</th>\n",
       "      <td>42</td>\n",
       "      <td>94891</td>\n",
       "      <td>4</td>\n",
       "      <td>4</td>\n",
       "      <td>5</td>\n",
       "      <td>13</td>\n",
       "      <td>15.0</td>\n",
       "      <td>25146</td>\n",
       "      <td>2</td>\n",
       "      <td>0</td>\n",
       "      <td>...</td>\n",
       "      <td>31</td>\n",
       "      <td>7</td>\n",
       "      <td>8.4</td>\n",
       "      <td>both</td>\n",
       "      <td>4</td>\n",
       "      <td>New customer</td>\n",
       "      <td>8.650000</td>\n",
       "      <td>Lower spender</td>\n",
       "      <td>15.0</td>\n",
       "      <td>Regular customer</td>\n",
       "    </tr>\n",
       "    <tr>\n",
       "      <th>3</th>\n",
       "      <td>6612</td>\n",
       "      <td>95113</td>\n",
       "      <td>410</td>\n",
       "      <td>2</td>\n",
       "      <td>1</td>\n",
       "      <td>18</td>\n",
       "      <td>7.0</td>\n",
       "      <td>25146</td>\n",
       "      <td>18</td>\n",
       "      <td>0</td>\n",
       "      <td>...</td>\n",
       "      <td>31</td>\n",
       "      <td>7</td>\n",
       "      <td>8.4</td>\n",
       "      <td>both</td>\n",
       "      <td>28</td>\n",
       "      <td>Regular customer</td>\n",
       "      <td>6.588889</td>\n",
       "      <td>Lower spender</td>\n",
       "      <td>7.0</td>\n",
       "      <td>Frequent customer</td>\n",
       "    </tr>\n",
       "    <tr>\n",
       "      <th>4</th>\n",
       "      <td>15832</td>\n",
       "      <td>83780</td>\n",
       "      <td>982</td>\n",
       "      <td>3</td>\n",
       "      <td>0</td>\n",
       "      <td>20</td>\n",
       "      <td>23.0</td>\n",
       "      <td>25146</td>\n",
       "      <td>32</td>\n",
       "      <td>0</td>\n",
       "      <td>...</td>\n",
       "      <td>31</td>\n",
       "      <td>7</td>\n",
       "      <td>8.4</td>\n",
       "      <td>both</td>\n",
       "      <td>6</td>\n",
       "      <td>New customer</td>\n",
       "      <td>7.873913</td>\n",
       "      <td>Lower spender</td>\n",
       "      <td>17.0</td>\n",
       "      <td>Regular customer</td>\n",
       "    </tr>\n",
       "  </tbody>\n",
       "</table>\n",
       "<p>5 rows × 22 columns</p>\n",
       "</div>"
      ],
      "text/plain": [
       "   Unnamed: 0_x  order_id  user_id  order_number  orders_day_of_week  \\\n",
       "0            42     94891        4             4                   5   \n",
       "1        787017     31925    47329             4                   3   \n",
       "2            42     94891        4             4                   5   \n",
       "3          6612     95113      410             2                   1   \n",
       "4         15832     83780      982             3                   0   \n",
       "\n",
       "   Order_time_of_day  days_since_prior_order  product_id  add_to_cart_order  \\\n",
       "0                 13                    15.0       22199                  1   \n",
       "1                 10                    12.0       22199                  1   \n",
       "2                 13                    15.0       25146                  2   \n",
       "3                 18                     7.0       25146                 18   \n",
       "4                 20                    23.0       25146                 32   \n",
       "\n",
       "   reordered  ...  aisle_id department_id  prices  _merge  max_order  \\\n",
       "0          0  ...       134             5     8.9    both          4   \n",
       "1          0  ...       134             5     8.9    both          4   \n",
       "2          0  ...        31             7     8.4    both          4   \n",
       "3          0  ...        31             7     8.4    both         28   \n",
       "4          0  ...        31             7     8.4    both          6   \n",
       "\n",
       "       loyalty_flag  user_avg_price spending_habit  median_order_duration  \\\n",
       "0      New customer        8.650000  Lower spender                   15.0   \n",
       "1      New customer        9.200000  Lower spender                   12.0   \n",
       "2      New customer        8.650000  Lower spender                   15.0   \n",
       "3  Regular customer        6.588889  Lower spender                    7.0   \n",
       "4      New customer        7.873913  Lower spender                   17.0   \n",
       "\n",
       "     order_frequency  \n",
       "0   Regular customer  \n",
       "1   Regular customer  \n",
       "2   Regular customer  \n",
       "3  Frequent customer  \n",
       "4   Regular customer  \n",
       "\n",
       "[5 rows x 22 columns]"
      ]
     },
     "execution_count": 3,
     "metadata": {},
     "output_type": "execute_result"
    }
   ],
   "source": [
    "df.head()"
   ]
  },
  {
   "cell_type": "markdown",
   "id": "41399885",
   "metadata": {},
   "source": [
    "## bar chart"
   ]
  },
  {
   "cell_type": "code",
   "execution_count": 5,
   "id": "5a0e0a6c",
   "metadata": {},
   "outputs": [
    {
     "data": {
      "text/plain": [
       "<AxesSubplot:>"
      ]
     },
     "execution_count": 5,
     "metadata": {},
     "output_type": "execute_result"
    },
    {
     "data": {
      "image/png": "[encoded data removed]",
      "text/plain": [
       "<Figure size 432x288 with 1 Axes>"
      ]
     },
     "metadata": {
      "needs_background": "light"
     },
     "output_type": "display_data"
    }
   ],
   "source": [
    "df['orders_day_of_week'].value_counts().plot.bar()"
   ]
  },
  {
   "cell_type": "code",
   "execution_count": 6,
   "id": "d0e0e25b",
   "metadata": {},
   "outputs": [
    {
     "data": {
      "text/plain": [
       "<AxesSubplot:>"
      ]
     },
     "execution_count": 6,
     "metadata": {},
     "output_type": "execute_result"
    },
    {
     "data": {
      "image/png": "[encoded data removed]",
      "text/plain": [
       "<Figure size 432x288 with 1 Axes>"
      ]
     },
     "metadata": {
      "needs_background": "light"
     },
     "output_type": "display_data"
    }
   ],
   "source": [
    "df['orders_day_of_week'].value_counts().sort_index().plot.bar()"
   ]
  },
  {
   "cell_type": "code",
   "execution_count": 10,
   "id": "abbde5a9",
   "metadata": {},
   "outputs": [
    {
     "data": {
      "image/png": "[encoded data removed]",
      "text/plain": [
       "<Figure size 432x288 with 1 Axes>"
      ]
     },
     "metadata": {
      "needs_background": "light"
     },
     "output_type": "display_data"
    }
   ],
   "source": [
    "bar = df['orders_day_of_week'].value_counts().plot.bar()"
   ]
  },
  {
   "cell_type": "code",
   "execution_count": 16,
   "id": "22f5ef7a",
   "metadata": {},
   "outputs": [],
   "source": [
    "path = r'D:\\PythonPrjkt\\Instacart Basket Analysis\\04_Analysis\\Visualizations'"
   ]
  },
  {
   "cell_type": "markdown",
   "id": "9ccaa14a",
   "metadata": {},
   "source": [
    "## export to PNG"
   ]
  },
  {
   "cell_type": "code",
   "execution_count": 17,
   "id": "4856ac8f",
   "metadata": {},
   "outputs": [],
   "source": [
    "#save chart as figure\n",
    "bar.figure.savefig(os.path.join(path,'bar_orders_dow.png'))"
   ]
  },
  {
   "cell_type": "markdown",
   "id": "6579316a",
   "metadata": {},
   "source": [
    "## create histogram"
   ]
  },
  {
   "cell_type": "code",
   "execution_count": 19,
   "id": "f971ed51",
   "metadata": {},
   "outputs": [
    {
     "data": {
      "text/plain": [
       "<AxesSubplot:ylabel='Frequency'>"
      ]
     },
     "execution_count": 19,
     "metadata": {},
     "output_type": "execute_result"
    },
    {
     "data": {
      "image/png": "[encoded data removed]",
      "text/plain": [
       "<Figure size 432x288 with 1 Axes>"
      ]
     },
     "metadata": {
      "needs_background": "light"
     },
     "output_type": "display_data"
    }
   ],
   "source": [
    "df['prices'].plot.hist(bins = 25)"
   ]
  },
  {
   "cell_type": "markdown",
   "id": "aa6bcccf",
   "metadata": {},
   "source": [
    "### max value of 99999 was noticed in the previous excercise and already been taken care of"
   ]
  },
  {
   "cell_type": "code",
   "execution_count": 20,
   "id": "0c7157e7",
   "metadata": {},
   "outputs": [
    {
     "data": {
      "text/plain": [
       "<AxesSubplot:xlabel='prices', ylabel='prices'>"
      ]
     },
     "execution_count": 20,
     "metadata": {},
     "output_type": "execute_result"
    },
    {
     "data": {
      "image/png": "[encoded data removed]",
      "text/plain": [
       "<Figure size 432x288 with 1 Axes>"
      ]
     },
     "metadata": {
      "needs_background": "light"
     },
     "output_type": "display_data"
    }
   ],
   "source": [
    "sns.scatterplot(x = 'prices', y = 'prices',data = df)"
   ]
  },
  {
   "cell_type": "code",
   "execution_count": 21,
   "id": "d24dd0dd",
   "metadata": {},
   "outputs": [
    {
     "data": {
      "text/plain": [
       "<AxesSubplot:ylabel='Frequency'>"
      ]
     },
     "execution_count": 21,
     "metadata": {},
     "output_type": "execute_result"
    },
    {
     "data": {
      "image/png": "[encoded data removed]",
      "text/plain": [
       "<Figure size 432x288 with 1 Axes>"
      ]
     },
     "metadata": {
      "needs_background": "light"
     },
     "output_type": "display_data"
    }
   ],
   "source": [
    "df['prices'].plot.hist(bins = 75)"
   ]
  },
  {
   "cell_type": "code",
   "execution_count": 22,
   "id": "ca0a0cc5",
   "metadata": {},
   "outputs": [
    {
     "data": {
      "image/png": "[encoded data removed]",
      "text/plain": [
       "<Figure size 432x288 with 1 Axes>"
      ]
     },
     "metadata": {
      "needs_background": "light"
     },
     "output_type": "display_data"
    }
   ],
   "source": [
    "hist =df['prices'].plot.hist(bins = 75)"
   ]
  },
  {
   "cell_type": "markdown",
   "id": "ebcbe851",
   "metadata": {},
   "source": [
    "## export to PNG"
   ]
  },
  {
   "cell_type": "code",
   "execution_count": 23,
   "id": "dd463b37",
   "metadata": {},
   "outputs": [],
   "source": [
    "#save chart as figure\n",
    "hist.figure.savefig(os.path.join(path,'bar_orders_dow.png'))"
   ]
  },
  {
   "cell_type": "markdown",
   "id": "bb936b20",
   "metadata": {},
   "source": [
    "## Sampling"
   ]
  },
  {
   "cell_type": "code",
   "execution_count": 24,
   "id": "46651166",
   "metadata": {},
   "outputs": [],
   "source": [
    "np.random.seed(4)\n",
    "dev = np.random.rand(len(df)) <= 0.7"
   ]
  },
  {
   "cell_type": "code",
   "execution_count": 26,
   "id": "830023fb",
   "metadata": {},
   "outputs": [],
   "source": [
    "#70% values saved\n",
    "big = df[dev]"
   ]
  },
  {
   "cell_type": "code",
   "execution_count": 28,
   "id": "3f172eaf",
   "metadata": {},
   "outputs": [],
   "source": [
    "#30% values saved\n",
    "small = df[~dev]"
   ]
  },
  {
   "cell_type": "code",
   "execution_count": 29,
   "id": "6669fab3",
   "metadata": {},
   "outputs": [
    {
     "data": {
      "text/plain": [
       "(87091, 22)"
      ]
     },
     "execution_count": 29,
     "metadata": {},
     "output_type": "execute_result"
    }
   ],
   "source": [
    "big.shape"
   ]
  },
  {
   "cell_type": "code",
   "execution_count": 30,
   "id": "d2e178fa",
   "metadata": {},
   "outputs": [
    {
     "data": {
      "text/plain": [
       "(87091, 22)"
      ]
     },
     "execution_count": 30,
     "metadata": {},
     "output_type": "execute_result"
    }
   ],
   "source": [
    "small.shape"
   ]
  },
  {
   "cell_type": "code",
   "execution_count": 32,
   "id": "4290ef99",
   "metadata": {},
   "outputs": [
    {
     "data": {
      "text/plain": [
       "(290577, 22)"
      ]
     },
     "execution_count": 32,
     "metadata": {},
     "output_type": "execute_result"
    }
   ],
   "source": [
    "df.shape"
   ]
  },
  {
   "cell_type": "code",
   "execution_count": 33,
   "id": "c81e5b04",
   "metadata": {},
   "outputs": [
    {
     "data": {
      "text/plain": [
       "174182"
      ]
     },
     "execution_count": 33,
     "metadata": {},
     "output_type": "execute_result"
    }
   ],
   "source": [
    "len(big) + len(small)"
   ]
  },
  {
   "cell_type": "code",
   "execution_count": 34,
   "id": "3ad80f29",
   "metadata": {},
   "outputs": [],
   "source": [
    "df_2 = small[['orders_day_of_week','prices']]"
   ]
  },
  {
   "cell_type": "code",
   "execution_count": 35,
   "id": "834ffd2a",
   "metadata": {},
   "outputs": [
    {
     "data": {
      "image/png": "[encoded data removed]",
      "text/plain": [
       "<Figure size 432x288 with 1 Axes>"
      ]
     },
     "metadata": {
      "needs_background": "light"
     },
     "output_type": "display_data"
    }
   ],
   "source": [
    "line = sns.lineplot(data = df_2, x = 'orders_day_of_week',y = 'prices')"
   ]
  },
  {
   "cell_type": "markdown",
   "id": "96f2d5b9",
   "metadata": {},
   "source": [
    "### contents\n",
    "### sampling\n",
    "### using bins  e.g. plot.hist(bins = 25)"
   ]
  },
  {
   "cell_type": "code",
   "execution_count": null,
   "id": "2d8408ab",
   "metadata": {},
   "outputs": [],
   "source": []
  }
 ],
 "metadata": {
  "kernelspec": {
   "display_name": "Python 3 (ipykernel)",
   "language": "python",
   "name": "python3"
  },
  "language_info": {
   "codemirror_mode": {
    "name": "ipython",
    "version": 3
   },
   "file_extension": ".py",
   "mimetype": "text/x-python",
   "name": "python",
   "nbconvert_exporter": "python",
   "pygments_lexer": "ipython3",
   "version": "3.9.7"
  }
 },
 "nbformat": 4,
 "nbformat_minor": 5
}
