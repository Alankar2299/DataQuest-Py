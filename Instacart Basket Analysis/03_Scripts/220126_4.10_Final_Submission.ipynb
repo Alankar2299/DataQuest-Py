{
 "cells": [
  {
   "cell_type": "markdown",
   "id": "27c19a15",
   "metadata": {},
   "source": [
    "# Final Submission"
   ]
  },
  {
   "cell_type": "markdown",
   "id": "69a6ccc5",
   "metadata": {},
   "source": [
    "## Importing all libraries"
   ]
  },
  {
   "cell_type": "code",
   "execution_count": 4,
   "id": "0249cc2d",
   "metadata": {},
   "outputs": [],
   "source": [
    "import pandas as pd\n",
    "import numpy as np\n",
    "import os\n",
    "import matplotlib.pyplot as plt\n",
    "import seaborn as sns\n",
    "import scipy"
   ]
  },
  {
   "cell_type": "markdown",
   "id": "455ad4ab",
   "metadata": {},
   "source": [
    "## importing the latest dataset"
   ]
  },
  {
   "cell_type": "code",
   "execution_count": 5,
   "id": "a5e82e3d",
   "metadata": {},
   "outputs": [],
   "source": [
    "df = pd.read_pickle(r'D:\\PythonPrjkt\\Instacart Basket Analysis\\02_Data\\2.7_Prepared data\\4.9_final_data_from_part_01.pkl')"
   ]
  },
  {
   "cell_type": "code",
   "execution_count": 6,
   "id": "96fba70d",
   "metadata": {},
   "outputs": [
    {
     "data": {
      "text/html": [
       "<div>\n",
       "<style scoped>\n",
       "    .dataframe tbody tr th:only-of-type {\n",
       "        vertical-align: middle;\n",
       "    }\n",
       "\n",
       "    .dataframe tbody tr th {\n",
       "        vertical-align: top;\n",
       "    }\n",
       "\n",
       "    .dataframe thead th {\n",
       "        text-align: right;\n",
       "    }\n",
       "</style>\n",
       "<table border=\"1\" class=\"dataframe\">\n",
       "  <thead>\n",
       "    <tr style=\"text-align: right;\">\n",
       "      <th></th>\n",
       "      <th>Unnamed: 0_x</th>\n",
       "      <th>order_id</th>\n",
       "      <th>user_id</th>\n",
       "      <th>order_number</th>\n",
       "      <th>orders_day_of_week</th>\n",
       "      <th>Order_time_of_day</th>\n",
       "      <th>days_since_prior_order</th>\n",
       "      <th>product_id</th>\n",
       "      <th>add_to_cart_order</th>\n",
       "      <th>reordered</th>\n",
       "      <th>...</th>\n",
       "      <th>median_order_duration</th>\n",
       "      <th>order_frequency</th>\n",
       "      <th>Gender</th>\n",
       "      <th>STATE</th>\n",
       "      <th>Age</th>\n",
       "      <th>date_joined</th>\n",
       "      <th>Number of dependants</th>\n",
       "      <th>Marital status</th>\n",
       "      <th>income</th>\n",
       "      <th>_merge</th>\n",
       "    </tr>\n",
       "  </thead>\n",
       "  <tbody>\n",
       "    <tr>\n",
       "      <th>0</th>\n",
       "      <td>42</td>\n",
       "      <td>94891</td>\n",
       "      <td>4</td>\n",
       "      <td>4</td>\n",
       "      <td>5</td>\n",
       "      <td>13</td>\n",
       "      <td>15.0</td>\n",
       "      <td>22199</td>\n",
       "      <td>1</td>\n",
       "      <td>0</td>\n",
       "      <td>...</td>\n",
       "      <td>15.0</td>\n",
       "      <td>Regular customer</td>\n",
       "      <td>Male</td>\n",
       "      <td>Arkansas</td>\n",
       "      <td>31</td>\n",
       "      <td>9/21/2017</td>\n",
       "      <td>3</td>\n",
       "      <td>married</td>\n",
       "      <td>45435</td>\n",
       "      <td>both</td>\n",
       "    </tr>\n",
       "    <tr>\n",
       "      <th>1</th>\n",
       "      <td>42</td>\n",
       "      <td>94891</td>\n",
       "      <td>4</td>\n",
       "      <td>4</td>\n",
       "      <td>5</td>\n",
       "      <td>13</td>\n",
       "      <td>15.0</td>\n",
       "      <td>25146</td>\n",
       "      <td>2</td>\n",
       "      <td>0</td>\n",
       "      <td>...</td>\n",
       "      <td>15.0</td>\n",
       "      <td>Regular customer</td>\n",
       "      <td>Male</td>\n",
       "      <td>Arkansas</td>\n",
       "      <td>31</td>\n",
       "      <td>9/21/2017</td>\n",
       "      <td>3</td>\n",
       "      <td>married</td>\n",
       "      <td>45435</td>\n",
       "      <td>both</td>\n",
       "    </tr>\n",
       "    <tr>\n",
       "      <th>2</th>\n",
       "      <td>787017</td>\n",
       "      <td>31925</td>\n",
       "      <td>47329</td>\n",
       "      <td>4</td>\n",
       "      <td>3</td>\n",
       "      <td>10</td>\n",
       "      <td>12.0</td>\n",
       "      <td>22199</td>\n",
       "      <td>1</td>\n",
       "      <td>0</td>\n",
       "      <td>...</td>\n",
       "      <td>12.0</td>\n",
       "      <td>Regular customer</td>\n",
       "      <td>Male</td>\n",
       "      <td>Alabama</td>\n",
       "      <td>49</td>\n",
       "      <td>6/25/2017</td>\n",
       "      <td>0</td>\n",
       "      <td>single</td>\n",
       "      <td>159539</td>\n",
       "      <td>both</td>\n",
       "    </tr>\n",
       "    <tr>\n",
       "      <th>3</th>\n",
       "      <td>787017</td>\n",
       "      <td>31925</td>\n",
       "      <td>47329</td>\n",
       "      <td>4</td>\n",
       "      <td>3</td>\n",
       "      <td>10</td>\n",
       "      <td>12.0</td>\n",
       "      <td>24968</td>\n",
       "      <td>2</td>\n",
       "      <td>1</td>\n",
       "      <td>...</td>\n",
       "      <td>12.0</td>\n",
       "      <td>Regular customer</td>\n",
       "      <td>Male</td>\n",
       "      <td>Alabama</td>\n",
       "      <td>49</td>\n",
       "      <td>6/25/2017</td>\n",
       "      <td>0</td>\n",
       "      <td>single</td>\n",
       "      <td>159539</td>\n",
       "      <td>both</td>\n",
       "    </tr>\n",
       "    <tr>\n",
       "      <th>4</th>\n",
       "      <td>6612</td>\n",
       "      <td>95113</td>\n",
       "      <td>410</td>\n",
       "      <td>2</td>\n",
       "      <td>1</td>\n",
       "      <td>18</td>\n",
       "      <td>7.0</td>\n",
       "      <td>25146</td>\n",
       "      <td>18</td>\n",
       "      <td>0</td>\n",
       "      <td>...</td>\n",
       "      <td>7.0</td>\n",
       "      <td>Frequent customer</td>\n",
       "      <td>Female</td>\n",
       "      <td>Alaska</td>\n",
       "      <td>69</td>\n",
       "      <td>3/17/2020</td>\n",
       "      <td>3</td>\n",
       "      <td>married</td>\n",
       "      <td>73977</td>\n",
       "      <td>both</td>\n",
       "    </tr>\n",
       "  </tbody>\n",
       "</table>\n",
       "<p>5 rows × 30 columns</p>\n",
       "</div>"
      ],
      "text/plain": [
       "   Unnamed: 0_x  order_id user_id  order_number  orders_day_of_week  \\\n",
       "0            42     94891       4             4                   5   \n",
       "1            42     94891       4             4                   5   \n",
       "2        787017     31925   47329             4                   3   \n",
       "3        787017     31925   47329             4                   3   \n",
       "4          6612     95113     410             2                   1   \n",
       "\n",
       "   Order_time_of_day  days_since_prior_order  product_id  add_to_cart_order  \\\n",
       "0                 13                    15.0       22199                  1   \n",
       "1                 13                    15.0       25146                  2   \n",
       "2                 10                    12.0       22199                  1   \n",
       "3                 10                    12.0       24968                  2   \n",
       "4                 18                     7.0       25146                 18   \n",
       "\n",
       "   reordered  ...  median_order_duration    order_frequency  Gender     STATE  \\\n",
       "0          0  ...                   15.0   Regular customer    Male  Arkansas   \n",
       "1          0  ...                   15.0   Regular customer    Male  Arkansas   \n",
       "2          0  ...                   12.0   Regular customer    Male   Alabama   \n",
       "3          1  ...                   12.0   Regular customer    Male   Alabama   \n",
       "4          0  ...                    7.0  Frequent customer  Female    Alaska   \n",
       "\n",
       "   Age date_joined  Number of dependants Marital status  income _merge  \n",
       "0   31   9/21/2017                     3        married   45435   both  \n",
       "1   31   9/21/2017                     3        married   45435   both  \n",
       "2   49   6/25/2017                     0         single  159539   both  \n",
       "3   49   6/25/2017                     0         single  159539   both  \n",
       "4   69   3/17/2020                     3        married   73977   both  \n",
       "\n",
       "[5 rows x 30 columns]"
      ]
     },
     "execution_count": 6,
     "metadata": {},
     "output_type": "execute_result"
    }
   ],
   "source": [
    "df.head()"
   ]
  },
  {
   "cell_type": "markdown",
   "id": "09533eef",
   "metadata": {},
   "source": [
    "## * All personal Identifiable information has already been removed in excercise 4.9"
   ]
  },
  {
   "cell_type": "markdown",
   "id": "0f3eaa2a",
   "metadata": {},
   "source": [
    "## creating individual region lists"
   ]
  },
  {
   "cell_type": "code",
   "execution_count": 7,
   "id": "ab37162d",
   "metadata": {},
   "outputs": [],
   "source": [
    "region_1 = ['Maine','New, Hampshire','Vermont','Massachusetts','Rhode Island','Connecticut','New York','Pennsylvania','New Jersey']"
   ]
  },
  {
   "cell_type": "code",
   "execution_count": 8,
   "id": "636549f4",
   "metadata": {},
   "outputs": [
    {
     "data": {
      "text/plain": [
       "['Maine',\n",
       " 'New, Hampshire',\n",
       " 'Vermont',\n",
       " 'Massachusetts',\n",
       " 'Rhode Island',\n",
       " 'Connecticut',\n",
       " 'New York',\n",
       " 'Pennsylvania',\n",
       " 'New Jersey']"
      ]
     },
     "execution_count": 8,
     "metadata": {},
     "output_type": "execute_result"
    }
   ],
   "source": [
    "#check\n",
    "region_1"
   ]
  },
  {
   "cell_type": "code",
   "execution_count": 9,
   "id": "8429f82d",
   "metadata": {},
   "outputs": [],
   "source": [
    "region_2 = ['Wisconsin','Michigan','Illinois','Indiana','Ohio','North','Dakota','South Dakota','Nebraska',\n",
    "            'Kansas','Minnesota','Iowa','Missouri']"
   ]
  },
  {
   "cell_type": "code",
   "execution_count": 10,
   "id": "0d62544a",
   "metadata": {},
   "outputs": [
    {
     "data": {
      "text/plain": [
       "['Wisconsin',\n",
       " 'Michigan',\n",
       " 'Illinois',\n",
       " 'Indiana',\n",
       " 'Ohio',\n",
       " 'North',\n",
       " 'Dakota',\n",
       " 'South Dakota',\n",
       " 'Nebraska',\n",
       " 'Kansas',\n",
       " 'Minnesota',\n",
       " 'Iowa',\n",
       " 'Missouri']"
      ]
     },
     "execution_count": 10,
     "metadata": {},
     "output_type": "execute_result"
    }
   ],
   "source": [
    "#check\n",
    "region_2"
   ]
  },
  {
   "cell_type": "code",
   "execution_count": 11,
   "id": "2d85cb25",
   "metadata": {},
   "outputs": [],
   "source": [
    "region_3 = ['Delaware','Maryland','District of Columbia','Virginia','West Virginia','North Carolina','South Carolina',\n",
    "            'Georgia','Florida','Kentucky','Tennessee','Mississippi','Alabama','Oklahoma','Texas','Arkansas','Louisiana']"
   ]
  },
  {
   "cell_type": "code",
   "execution_count": 12,
   "id": "ba2b349a",
   "metadata": {},
   "outputs": [
    {
     "data": {
      "text/plain": [
       "['Delaware',\n",
       " 'Maryland',\n",
       " 'District of Columbia',\n",
       " 'Virginia',\n",
       " 'West Virginia',\n",
       " 'North Carolina',\n",
       " 'South Carolina',\n",
       " 'Georgia',\n",
       " 'Florida',\n",
       " 'Kentucky',\n",
       " 'Tennessee',\n",
       " 'Mississippi',\n",
       " 'Alabama',\n",
       " 'Oklahoma',\n",
       " 'Texas',\n",
       " 'Arkansas',\n",
       " 'Louisiana']"
      ]
     },
     "execution_count": 12,
     "metadata": {},
     "output_type": "execute_result"
    }
   ],
   "source": [
    "#check \n",
    "region_3"
   ]
  },
  {
   "cell_type": "code",
   "execution_count": 13,
   "id": "3e95640a",
   "metadata": {},
   "outputs": [],
   "source": [
    "region_4 = ['Idaho','Montana','Wyoming','Nevada','Utah','Colorado','Arizona','New Mexico','Alaska','Washington',\n",
    "            'Oregon','California','Hawaii']"
   ]
  },
  {
   "cell_type": "code",
   "execution_count": 14,
   "id": "b68431a7",
   "metadata": {},
   "outputs": [
    {
     "data": {
      "text/plain": [
       "['Idaho',\n",
       " 'Montana',\n",
       " 'Wyoming',\n",
       " 'Nevada',\n",
       " 'Utah',\n",
       " 'Colorado',\n",
       " 'Arizona',\n",
       " 'New Mexico',\n",
       " 'Alaska',\n",
       " 'Washington',\n",
       " 'Oregon',\n",
       " 'California',\n",
       " 'Hawaii']"
      ]
     },
     "execution_count": 14,
     "metadata": {},
     "output_type": "execute_result"
    }
   ],
   "source": [
    "#check\n",
    "region_4"
   ]
  },
  {
   "cell_type": "code",
   "execution_count": 15,
   "id": "548bb56b",
   "metadata": {},
   "outputs": [],
   "source": [
    "#df.loc[df['max_order'] > 40, 'loyalty_flag'] = 'Loyal customer'"
   ]
  },
  {
   "cell_type": "code",
   "execution_count": 16,
   "id": "671d80e1",
   "metadata": {},
   "outputs": [
    {
     "data": {
      "text/html": [
       "<div>\n",
       "<style scoped>\n",
       "    .dataframe tbody tr th:only-of-type {\n",
       "        vertical-align: middle;\n",
       "    }\n",
       "\n",
       "    .dataframe tbody tr th {\n",
       "        vertical-align: top;\n",
       "    }\n",
       "\n",
       "    .dataframe thead th {\n",
       "        text-align: right;\n",
       "    }\n",
       "</style>\n",
       "<table border=\"1\" class=\"dataframe\">\n",
       "  <thead>\n",
       "    <tr style=\"text-align: right;\">\n",
       "      <th></th>\n",
       "      <th>Unnamed: 0_x</th>\n",
       "      <th>order_id</th>\n",
       "      <th>user_id</th>\n",
       "      <th>order_number</th>\n",
       "      <th>orders_day_of_week</th>\n",
       "      <th>Order_time_of_day</th>\n",
       "      <th>days_since_prior_order</th>\n",
       "      <th>product_id</th>\n",
       "      <th>add_to_cart_order</th>\n",
       "      <th>reordered</th>\n",
       "      <th>...</th>\n",
       "      <th>median_order_duration</th>\n",
       "      <th>order_frequency</th>\n",
       "      <th>Gender</th>\n",
       "      <th>STATE</th>\n",
       "      <th>Age</th>\n",
       "      <th>date_joined</th>\n",
       "      <th>Number of dependants</th>\n",
       "      <th>Marital status</th>\n",
       "      <th>income</th>\n",
       "      <th>_merge</th>\n",
       "    </tr>\n",
       "  </thead>\n",
       "  <tbody>\n",
       "    <tr>\n",
       "      <th>0</th>\n",
       "      <td>42</td>\n",
       "      <td>94891</td>\n",
       "      <td>4</td>\n",
       "      <td>4</td>\n",
       "      <td>5</td>\n",
       "      <td>13</td>\n",
       "      <td>15.0</td>\n",
       "      <td>22199</td>\n",
       "      <td>1</td>\n",
       "      <td>0</td>\n",
       "      <td>...</td>\n",
       "      <td>15.0</td>\n",
       "      <td>Regular customer</td>\n",
       "      <td>Male</td>\n",
       "      <td>Arkansas</td>\n",
       "      <td>31</td>\n",
       "      <td>9/21/2017</td>\n",
       "      <td>3</td>\n",
       "      <td>married</td>\n",
       "      <td>45435</td>\n",
       "      <td>both</td>\n",
       "    </tr>\n",
       "    <tr>\n",
       "      <th>1</th>\n",
       "      <td>42</td>\n",
       "      <td>94891</td>\n",
       "      <td>4</td>\n",
       "      <td>4</td>\n",
       "      <td>5</td>\n",
       "      <td>13</td>\n",
       "      <td>15.0</td>\n",
       "      <td>25146</td>\n",
       "      <td>2</td>\n",
       "      <td>0</td>\n",
       "      <td>...</td>\n",
       "      <td>15.0</td>\n",
       "      <td>Regular customer</td>\n",
       "      <td>Male</td>\n",
       "      <td>Arkansas</td>\n",
       "      <td>31</td>\n",
       "      <td>9/21/2017</td>\n",
       "      <td>3</td>\n",
       "      <td>married</td>\n",
       "      <td>45435</td>\n",
       "      <td>both</td>\n",
       "    </tr>\n",
       "    <tr>\n",
       "      <th>2</th>\n",
       "      <td>787017</td>\n",
       "      <td>31925</td>\n",
       "      <td>47329</td>\n",
       "      <td>4</td>\n",
       "      <td>3</td>\n",
       "      <td>10</td>\n",
       "      <td>12.0</td>\n",
       "      <td>22199</td>\n",
       "      <td>1</td>\n",
       "      <td>0</td>\n",
       "      <td>...</td>\n",
       "      <td>12.0</td>\n",
       "      <td>Regular customer</td>\n",
       "      <td>Male</td>\n",
       "      <td>Alabama</td>\n",
       "      <td>49</td>\n",
       "      <td>6/25/2017</td>\n",
       "      <td>0</td>\n",
       "      <td>single</td>\n",
       "      <td>159539</td>\n",
       "      <td>both</td>\n",
       "    </tr>\n",
       "    <tr>\n",
       "      <th>3</th>\n",
       "      <td>787017</td>\n",
       "      <td>31925</td>\n",
       "      <td>47329</td>\n",
       "      <td>4</td>\n",
       "      <td>3</td>\n",
       "      <td>10</td>\n",
       "      <td>12.0</td>\n",
       "      <td>24968</td>\n",
       "      <td>2</td>\n",
       "      <td>1</td>\n",
       "      <td>...</td>\n",
       "      <td>12.0</td>\n",
       "      <td>Regular customer</td>\n",
       "      <td>Male</td>\n",
       "      <td>Alabama</td>\n",
       "      <td>49</td>\n",
       "      <td>6/25/2017</td>\n",
       "      <td>0</td>\n",
       "      <td>single</td>\n",
       "      <td>159539</td>\n",
       "      <td>both</td>\n",
       "    </tr>\n",
       "    <tr>\n",
       "      <th>4</th>\n",
       "      <td>6612</td>\n",
       "      <td>95113</td>\n",
       "      <td>410</td>\n",
       "      <td>2</td>\n",
       "      <td>1</td>\n",
       "      <td>18</td>\n",
       "      <td>7.0</td>\n",
       "      <td>25146</td>\n",
       "      <td>18</td>\n",
       "      <td>0</td>\n",
       "      <td>...</td>\n",
       "      <td>7.0</td>\n",
       "      <td>Frequent customer</td>\n",
       "      <td>Female</td>\n",
       "      <td>Alaska</td>\n",
       "      <td>69</td>\n",
       "      <td>3/17/2020</td>\n",
       "      <td>3</td>\n",
       "      <td>married</td>\n",
       "      <td>73977</td>\n",
       "      <td>both</td>\n",
       "    </tr>\n",
       "  </tbody>\n",
       "</table>\n",
       "<p>5 rows × 30 columns</p>\n",
       "</div>"
      ],
      "text/plain": [
       "   Unnamed: 0_x  order_id user_id  order_number  orders_day_of_week  \\\n",
       "0            42     94891       4             4                   5   \n",
       "1            42     94891       4             4                   5   \n",
       "2        787017     31925   47329             4                   3   \n",
       "3        787017     31925   47329             4                   3   \n",
       "4          6612     95113     410             2                   1   \n",
       "\n",
       "   Order_time_of_day  days_since_prior_order  product_id  add_to_cart_order  \\\n",
       "0                 13                    15.0       22199                  1   \n",
       "1                 13                    15.0       25146                  2   \n",
       "2                 10                    12.0       22199                  1   \n",
       "3                 10                    12.0       24968                  2   \n",
       "4                 18                     7.0       25146                 18   \n",
       "\n",
       "   reordered  ...  median_order_duration    order_frequency  Gender     STATE  \\\n",
       "0          0  ...                   15.0   Regular customer    Male  Arkansas   \n",
       "1          0  ...                   15.0   Regular customer    Male  Arkansas   \n",
       "2          0  ...                   12.0   Regular customer    Male   Alabama   \n",
       "3          1  ...                   12.0   Regular customer    Male   Alabama   \n",
       "4          0  ...                    7.0  Frequent customer  Female    Alaska   \n",
       "\n",
       "   Age date_joined  Number of dependants Marital status  income _merge  \n",
       "0   31   9/21/2017                     3        married   45435   both  \n",
       "1   31   9/21/2017                     3        married   45435   both  \n",
       "2   49   6/25/2017                     0         single  159539   both  \n",
       "3   49   6/25/2017                     0         single  159539   both  \n",
       "4   69   3/17/2020                     3        married   73977   both  \n",
       "\n",
       "[5 rows x 30 columns]"
      ]
     },
     "execution_count": 16,
     "metadata": {},
     "output_type": "execute_result"
    }
   ],
   "source": [
    "df.head()"
   ]
  },
  {
   "cell_type": "code",
   "execution_count": 17,
   "id": "cc6aae99",
   "metadata": {},
   "outputs": [],
   "source": [
    "#change the column name\n",
    "df = df.rename(columns = {'STATE' : 'state'})"
   ]
  },
  {
   "cell_type": "code",
   "execution_count": 18,
   "id": "4a10f3dc",
   "metadata": {},
   "outputs": [
    {
     "data": {
      "text/html": [
       "<div>\n",
       "<style scoped>\n",
       "    .dataframe tbody tr th:only-of-type {\n",
       "        vertical-align: middle;\n",
       "    }\n",
       "\n",
       "    .dataframe tbody tr th {\n",
       "        vertical-align: top;\n",
       "    }\n",
       "\n",
       "    .dataframe thead th {\n",
       "        text-align: right;\n",
       "    }\n",
       "</style>\n",
       "<table border=\"1\" class=\"dataframe\">\n",
       "  <thead>\n",
       "    <tr style=\"text-align: right;\">\n",
       "      <th></th>\n",
       "      <th>Unnamed: 0_x</th>\n",
       "      <th>order_id</th>\n",
       "      <th>user_id</th>\n",
       "      <th>order_number</th>\n",
       "      <th>orders_day_of_week</th>\n",
       "      <th>Order_time_of_day</th>\n",
       "      <th>days_since_prior_order</th>\n",
       "      <th>product_id</th>\n",
       "      <th>add_to_cart_order</th>\n",
       "      <th>reordered</th>\n",
       "      <th>...</th>\n",
       "      <th>median_order_duration</th>\n",
       "      <th>order_frequency</th>\n",
       "      <th>Gender</th>\n",
       "      <th>state</th>\n",
       "      <th>Age</th>\n",
       "      <th>date_joined</th>\n",
       "      <th>Number of dependants</th>\n",
       "      <th>Marital status</th>\n",
       "      <th>income</th>\n",
       "      <th>_merge</th>\n",
       "    </tr>\n",
       "  </thead>\n",
       "  <tbody>\n",
       "    <tr>\n",
       "      <th>0</th>\n",
       "      <td>42</td>\n",
       "      <td>94891</td>\n",
       "      <td>4</td>\n",
       "      <td>4</td>\n",
       "      <td>5</td>\n",
       "      <td>13</td>\n",
       "      <td>15.0</td>\n",
       "      <td>22199</td>\n",
       "      <td>1</td>\n",
       "      <td>0</td>\n",
       "      <td>...</td>\n",
       "      <td>15.0</td>\n",
       "      <td>Regular customer</td>\n",
       "      <td>Male</td>\n",
       "      <td>Arkansas</td>\n",
       "      <td>31</td>\n",
       "      <td>9/21/2017</td>\n",
       "      <td>3</td>\n",
       "      <td>married</td>\n",
       "      <td>45435</td>\n",
       "      <td>both</td>\n",
       "    </tr>\n",
       "    <tr>\n",
       "      <th>1</th>\n",
       "      <td>42</td>\n",
       "      <td>94891</td>\n",
       "      <td>4</td>\n",
       "      <td>4</td>\n",
       "      <td>5</td>\n",
       "      <td>13</td>\n",
       "      <td>15.0</td>\n",
       "      <td>25146</td>\n",
       "      <td>2</td>\n",
       "      <td>0</td>\n",
       "      <td>...</td>\n",
       "      <td>15.0</td>\n",
       "      <td>Regular customer</td>\n",
       "      <td>Male</td>\n",
       "      <td>Arkansas</td>\n",
       "      <td>31</td>\n",
       "      <td>9/21/2017</td>\n",
       "      <td>3</td>\n",
       "      <td>married</td>\n",
       "      <td>45435</td>\n",
       "      <td>both</td>\n",
       "    </tr>\n",
       "    <tr>\n",
       "      <th>2</th>\n",
       "      <td>787017</td>\n",
       "      <td>31925</td>\n",
       "      <td>47329</td>\n",
       "      <td>4</td>\n",
       "      <td>3</td>\n",
       "      <td>10</td>\n",
       "      <td>12.0</td>\n",
       "      <td>22199</td>\n",
       "      <td>1</td>\n",
       "      <td>0</td>\n",
       "      <td>...</td>\n",
       "      <td>12.0</td>\n",
       "      <td>Regular customer</td>\n",
       "      <td>Male</td>\n",
       "      <td>Alabama</td>\n",
       "      <td>49</td>\n",
       "      <td>6/25/2017</td>\n",
       "      <td>0</td>\n",
       "      <td>single</td>\n",
       "      <td>159539</td>\n",
       "      <td>both</td>\n",
       "    </tr>\n",
       "    <tr>\n",
       "      <th>3</th>\n",
       "      <td>787017</td>\n",
       "      <td>31925</td>\n",
       "      <td>47329</td>\n",
       "      <td>4</td>\n",
       "      <td>3</td>\n",
       "      <td>10</td>\n",
       "      <td>12.0</td>\n",
       "      <td>24968</td>\n",
       "      <td>2</td>\n",
       "      <td>1</td>\n",
       "      <td>...</td>\n",
       "      <td>12.0</td>\n",
       "      <td>Regular customer</td>\n",
       "      <td>Male</td>\n",
       "      <td>Alabama</td>\n",
       "      <td>49</td>\n",
       "      <td>6/25/2017</td>\n",
       "      <td>0</td>\n",
       "      <td>single</td>\n",
       "      <td>159539</td>\n",
       "      <td>both</td>\n",
       "    </tr>\n",
       "    <tr>\n",
       "      <th>4</th>\n",
       "      <td>6612</td>\n",
       "      <td>95113</td>\n",
       "      <td>410</td>\n",
       "      <td>2</td>\n",
       "      <td>1</td>\n",
       "      <td>18</td>\n",
       "      <td>7.0</td>\n",
       "      <td>25146</td>\n",
       "      <td>18</td>\n",
       "      <td>0</td>\n",
       "      <td>...</td>\n",
       "      <td>7.0</td>\n",
       "      <td>Frequent customer</td>\n",
       "      <td>Female</td>\n",
       "      <td>Alaska</td>\n",
       "      <td>69</td>\n",
       "      <td>3/17/2020</td>\n",
       "      <td>3</td>\n",
       "      <td>married</td>\n",
       "      <td>73977</td>\n",
       "      <td>both</td>\n",
       "    </tr>\n",
       "  </tbody>\n",
       "</table>\n",
       "<p>5 rows × 30 columns</p>\n",
       "</div>"
      ],
      "text/plain": [
       "   Unnamed: 0_x  order_id user_id  order_number  orders_day_of_week  \\\n",
       "0            42     94891       4             4                   5   \n",
       "1            42     94891       4             4                   5   \n",
       "2        787017     31925   47329             4                   3   \n",
       "3        787017     31925   47329             4                   3   \n",
       "4          6612     95113     410             2                   1   \n",
       "\n",
       "   Order_time_of_day  days_since_prior_order  product_id  add_to_cart_order  \\\n",
       "0                 13                    15.0       22199                  1   \n",
       "1                 13                    15.0       25146                  2   \n",
       "2                 10                    12.0       22199                  1   \n",
       "3                 10                    12.0       24968                  2   \n",
       "4                 18                     7.0       25146                 18   \n",
       "\n",
       "   reordered  ...  median_order_duration    order_frequency  Gender     state  \\\n",
       "0          0  ...                   15.0   Regular customer    Male  Arkansas   \n",
       "1          0  ...                   15.0   Regular customer    Male  Arkansas   \n",
       "2          0  ...                   12.0   Regular customer    Male   Alabama   \n",
       "3          1  ...                   12.0   Regular customer    Male   Alabama   \n",
       "4          0  ...                    7.0  Frequent customer  Female    Alaska   \n",
       "\n",
       "   Age date_joined  Number of dependants Marital status  income _merge  \n",
       "0   31   9/21/2017                     3        married   45435   both  \n",
       "1   31   9/21/2017                     3        married   45435   both  \n",
       "2   49   6/25/2017                     0         single  159539   both  \n",
       "3   49   6/25/2017                     0         single  159539   both  \n",
       "4   69   3/17/2020                     3        married   73977   both  \n",
       "\n",
       "[5 rows x 30 columns]"
      ]
     },
     "execution_count": 18,
     "metadata": {},
     "output_type": "execute_result"
    }
   ],
   "source": [
    "df.head()"
   ]
  },
  {
   "cell_type": "markdown",
   "id": "1ab40272",
   "metadata": {},
   "source": [
    "## creating a column to hold region info"
   ]
  },
  {
   "cell_type": "code",
   "execution_count": 19,
   "id": "c241bf7e",
   "metadata": {},
   "outputs": [],
   "source": [
    "df.loc[df['state'].isin(region_1), 'Region'] = 'region_1'\n",
    "df.loc[df['state'].isin(region_2), 'Region'] = 'region_2'\n",
    "df.loc[df['state'].isin(region_3), 'Region'] = 'region_3'\n",
    "df.loc[df['state'].isin(region_4), 'Region'] = 'region_4'"
   ]
  },
  {
   "cell_type": "code",
   "execution_count": 20,
   "id": "f79b9683",
   "metadata": {},
   "outputs": [
    {
     "data": {
      "text/plain": [
       "0    region_3\n",
       "1    region_3\n",
       "2    region_3\n",
       "3    region_3\n",
       "4    region_4\n",
       "Name: Region, dtype: object"
      ]
     },
     "execution_count": 20,
     "metadata": {},
     "output_type": "execute_result"
    }
   ],
   "source": [
    "df['Region'].head()"
   ]
  },
  {
   "cell_type": "code",
   "execution_count": 21,
   "id": "5159ddad",
   "metadata": {},
   "outputs": [],
   "source": [
    "#df.groupby('Region')['prices'].sum().plot.bar()\n",
    "pd.options.display.max_columns = None\n",
    "pd.options.display.max_rows = None"
   ]
  },
  {
   "cell_type": "code",
   "execution_count": 22,
   "id": "7af1ff13",
   "metadata": {},
   "outputs": [
    {
     "data": {
      "text/html": [
       "<div>\n",
       "<style scoped>\n",
       "    .dataframe tbody tr th:only-of-type {\n",
       "        vertical-align: middle;\n",
       "    }\n",
       "\n",
       "    .dataframe tbody tr th {\n",
       "        vertical-align: top;\n",
       "    }\n",
       "\n",
       "    .dataframe thead th {\n",
       "        text-align: right;\n",
       "    }\n",
       "</style>\n",
       "<table border=\"1\" class=\"dataframe\">\n",
       "  <thead>\n",
       "    <tr style=\"text-align: right;\">\n",
       "      <th></th>\n",
       "      <th>Unnamed: 0_x</th>\n",
       "      <th>order_id</th>\n",
       "      <th>user_id</th>\n",
       "      <th>order_number</th>\n",
       "      <th>orders_day_of_week</th>\n",
       "      <th>Order_time_of_day</th>\n",
       "      <th>days_since_prior_order</th>\n",
       "      <th>product_id</th>\n",
       "      <th>add_to_cart_order</th>\n",
       "      <th>reordered</th>\n",
       "      <th>Unnamed: 0_y</th>\n",
       "      <th>product_name</th>\n",
       "      <th>aisle_id</th>\n",
       "      <th>department_id</th>\n",
       "      <th>prices</th>\n",
       "      <th>previous_merge</th>\n",
       "      <th>max_order</th>\n",
       "      <th>loyalty_flag</th>\n",
       "      <th>user_avg_price</th>\n",
       "      <th>spending_habit</th>\n",
       "      <th>median_order_duration</th>\n",
       "      <th>order_frequency</th>\n",
       "      <th>Gender</th>\n",
       "      <th>state</th>\n",
       "      <th>Age</th>\n",
       "      <th>date_joined</th>\n",
       "      <th>Number of dependants</th>\n",
       "      <th>Marital status</th>\n",
       "      <th>income</th>\n",
       "      <th>_merge</th>\n",
       "      <th>Region</th>\n",
       "    </tr>\n",
       "  </thead>\n",
       "  <tbody>\n",
       "    <tr>\n",
       "      <th>0</th>\n",
       "      <td>42</td>\n",
       "      <td>94891</td>\n",
       "      <td>4</td>\n",
       "      <td>4</td>\n",
       "      <td>5</td>\n",
       "      <td>13</td>\n",
       "      <td>15.0</td>\n",
       "      <td>22199</td>\n",
       "      <td>1</td>\n",
       "      <td>0</td>\n",
       "      <td>22200</td>\n",
       "      <td>Extra-Dry Cava</td>\n",
       "      <td>134</td>\n",
       "      <td>5</td>\n",
       "      <td>8.9</td>\n",
       "      <td>both</td>\n",
       "      <td>4</td>\n",
       "      <td>New customer</td>\n",
       "      <td>8.650000</td>\n",
       "      <td>Lower spender</td>\n",
       "      <td>15.0</td>\n",
       "      <td>Regular customer</td>\n",
       "      <td>Male</td>\n",
       "      <td>Arkansas</td>\n",
       "      <td>31</td>\n",
       "      <td>9/21/2017</td>\n",
       "      <td>3</td>\n",
       "      <td>married</td>\n",
       "      <td>45435</td>\n",
       "      <td>both</td>\n",
       "      <td>region_3</td>\n",
       "    </tr>\n",
       "    <tr>\n",
       "      <th>1</th>\n",
       "      <td>42</td>\n",
       "      <td>94891</td>\n",
       "      <td>4</td>\n",
       "      <td>4</td>\n",
       "      <td>5</td>\n",
       "      <td>13</td>\n",
       "      <td>15.0</td>\n",
       "      <td>25146</td>\n",
       "      <td>2</td>\n",
       "      <td>0</td>\n",
       "      <td>25147</td>\n",
       "      <td>Original Orange Juice</td>\n",
       "      <td>31</td>\n",
       "      <td>7</td>\n",
       "      <td>8.4</td>\n",
       "      <td>both</td>\n",
       "      <td>4</td>\n",
       "      <td>New customer</td>\n",
       "      <td>8.650000</td>\n",
       "      <td>Lower spender</td>\n",
       "      <td>15.0</td>\n",
       "      <td>Regular customer</td>\n",
       "      <td>Male</td>\n",
       "      <td>Arkansas</td>\n",
       "      <td>31</td>\n",
       "      <td>9/21/2017</td>\n",
       "      <td>3</td>\n",
       "      <td>married</td>\n",
       "      <td>45435</td>\n",
       "      <td>both</td>\n",
       "      <td>region_3</td>\n",
       "    </tr>\n",
       "    <tr>\n",
       "      <th>2</th>\n",
       "      <td>787017</td>\n",
       "      <td>31925</td>\n",
       "      <td>47329</td>\n",
       "      <td>4</td>\n",
       "      <td>3</td>\n",
       "      <td>10</td>\n",
       "      <td>12.0</td>\n",
       "      <td>22199</td>\n",
       "      <td>1</td>\n",
       "      <td>0</td>\n",
       "      <td>22200</td>\n",
       "      <td>Extra-Dry Cava</td>\n",
       "      <td>134</td>\n",
       "      <td>5</td>\n",
       "      <td>8.9</td>\n",
       "      <td>both</td>\n",
       "      <td>4</td>\n",
       "      <td>New customer</td>\n",
       "      <td>9.200000</td>\n",
       "      <td>Lower spender</td>\n",
       "      <td>12.0</td>\n",
       "      <td>Regular customer</td>\n",
       "      <td>Male</td>\n",
       "      <td>Alabama</td>\n",
       "      <td>49</td>\n",
       "      <td>6/25/2017</td>\n",
       "      <td>0</td>\n",
       "      <td>single</td>\n",
       "      <td>159539</td>\n",
       "      <td>both</td>\n",
       "      <td>region_3</td>\n",
       "    </tr>\n",
       "    <tr>\n",
       "      <th>3</th>\n",
       "      <td>787017</td>\n",
       "      <td>31925</td>\n",
       "      <td>47329</td>\n",
       "      <td>4</td>\n",
       "      <td>3</td>\n",
       "      <td>10</td>\n",
       "      <td>12.0</td>\n",
       "      <td>24968</td>\n",
       "      <td>2</td>\n",
       "      <td>1</td>\n",
       "      <td>24969</td>\n",
       "      <td>Sonoma Brut Sparkling Wine</td>\n",
       "      <td>134</td>\n",
       "      <td>5</td>\n",
       "      <td>9.5</td>\n",
       "      <td>both</td>\n",
       "      <td>4</td>\n",
       "      <td>New customer</td>\n",
       "      <td>9.200000</td>\n",
       "      <td>Lower spender</td>\n",
       "      <td>12.0</td>\n",
       "      <td>Regular customer</td>\n",
       "      <td>Male</td>\n",
       "      <td>Alabama</td>\n",
       "      <td>49</td>\n",
       "      <td>6/25/2017</td>\n",
       "      <td>0</td>\n",
       "      <td>single</td>\n",
       "      <td>159539</td>\n",
       "      <td>both</td>\n",
       "      <td>region_3</td>\n",
       "    </tr>\n",
       "    <tr>\n",
       "      <th>4</th>\n",
       "      <td>6612</td>\n",
       "      <td>95113</td>\n",
       "      <td>410</td>\n",
       "      <td>2</td>\n",
       "      <td>1</td>\n",
       "      <td>18</td>\n",
       "      <td>7.0</td>\n",
       "      <td>25146</td>\n",
       "      <td>18</td>\n",
       "      <td>0</td>\n",
       "      <td>25147</td>\n",
       "      <td>Original Orange Juice</td>\n",
       "      <td>31</td>\n",
       "      <td>7</td>\n",
       "      <td>8.4</td>\n",
       "      <td>both</td>\n",
       "      <td>28</td>\n",
       "      <td>Regular customer</td>\n",
       "      <td>6.588889</td>\n",
       "      <td>Lower spender</td>\n",
       "      <td>7.0</td>\n",
       "      <td>Frequent customer</td>\n",
       "      <td>Female</td>\n",
       "      <td>Alaska</td>\n",
       "      <td>69</td>\n",
       "      <td>3/17/2020</td>\n",
       "      <td>3</td>\n",
       "      <td>married</td>\n",
       "      <td>73977</td>\n",
       "      <td>both</td>\n",
       "      <td>region_4</td>\n",
       "    </tr>\n",
       "  </tbody>\n",
       "</table>\n",
       "</div>"
      ],
      "text/plain": [
       "   Unnamed: 0_x  order_id user_id  order_number  orders_day_of_week  \\\n",
       "0            42     94891       4             4                   5   \n",
       "1            42     94891       4             4                   5   \n",
       "2        787017     31925   47329             4                   3   \n",
       "3        787017     31925   47329             4                   3   \n",
       "4          6612     95113     410             2                   1   \n",
       "\n",
       "   Order_time_of_day  days_since_prior_order  product_id  add_to_cart_order  \\\n",
       "0                 13                    15.0       22199                  1   \n",
       "1                 13                    15.0       25146                  2   \n",
       "2                 10                    12.0       22199                  1   \n",
       "3                 10                    12.0       24968                  2   \n",
       "4                 18                     7.0       25146                 18   \n",
       "\n",
       "   reordered  Unnamed: 0_y                product_name  aisle_id  \\\n",
       "0          0         22200              Extra-Dry Cava       134   \n",
       "1          0         25147       Original Orange Juice        31   \n",
       "2          0         22200              Extra-Dry Cava       134   \n",
       "3          1         24969  Sonoma Brut Sparkling Wine       134   \n",
       "4          0         25147       Original Orange Juice        31   \n",
       "\n",
       "   department_id  prices previous_merge  max_order      loyalty_flag  \\\n",
       "0              5     8.9           both          4      New customer   \n",
       "1              7     8.4           both          4      New customer   \n",
       "2              5     8.9           both          4      New customer   \n",
       "3              5     9.5           both          4      New customer   \n",
       "4              7     8.4           both         28  Regular customer   \n",
       "\n",
       "   user_avg_price spending_habit  median_order_duration    order_frequency  \\\n",
       "0        8.650000  Lower spender                   15.0   Regular customer   \n",
       "1        8.650000  Lower spender                   15.0   Regular customer   \n",
       "2        9.200000  Lower spender                   12.0   Regular customer   \n",
       "3        9.200000  Lower spender                   12.0   Regular customer   \n",
       "4        6.588889  Lower spender                    7.0  Frequent customer   \n",
       "\n",
       "   Gender     state  Age date_joined  Number of dependants Marital status  \\\n",
       "0    Male  Arkansas   31   9/21/2017                     3        married   \n",
       "1    Male  Arkansas   31   9/21/2017                     3        married   \n",
       "2    Male   Alabama   49   6/25/2017                     0         single   \n",
       "3    Male   Alabama   49   6/25/2017                     0         single   \n",
       "4  Female    Alaska   69   3/17/2020                     3        married   \n",
       "\n",
       "   income _merge    Region  \n",
       "0   45435   both  region_3  \n",
       "1   45435   both  region_3  \n",
       "2  159539   both  region_3  \n",
       "3  159539   both  region_3  \n",
       "4   73977   both  region_4  "
      ]
     },
     "execution_count": 22,
     "metadata": {},
     "output_type": "execute_result"
    }
   ],
   "source": [
    "df.head()"
   ]
  },
  {
   "cell_type": "markdown",
   "id": "34771fb6",
   "metadata": {},
   "source": [
    "## Using crosstab to generate data for the chart"
   ]
  },
  {
   "cell_type": "code",
   "execution_count": 23,
   "id": "cc9e0b75",
   "metadata": {},
   "outputs": [],
   "source": [
    "crosstab = pd.crosstab(df['Region'], df['spending_habit'], dropna = False)"
   ]
  },
  {
   "cell_type": "code",
   "execution_count": 24,
   "id": "46dc2513",
   "metadata": {},
   "outputs": [
    {
     "data": {
      "text/html": [
       "<div>\n",
       "<style scoped>\n",
       "    .dataframe tbody tr th:only-of-type {\n",
       "        vertical-align: middle;\n",
       "    }\n",
       "\n",
       "    .dataframe tbody tr th {\n",
       "        vertical-align: top;\n",
       "    }\n",
       "\n",
       "    .dataframe thead th {\n",
       "        text-align: right;\n",
       "    }\n",
       "</style>\n",
       "<table border=\"1\" class=\"dataframe\">\n",
       "  <thead>\n",
       "    <tr style=\"text-align: right;\">\n",
       "      <th>spending_habit</th>\n",
       "      <th>Higher spender</th>\n",
       "      <th>Lower spender</th>\n",
       "    </tr>\n",
       "    <tr>\n",
       "      <th>Region</th>\n",
       "      <th></th>\n",
       "      <th></th>\n",
       "    </tr>\n",
       "  </thead>\n",
       "  <tbody>\n",
       "    <tr>\n",
       "      <th>region_1</th>\n",
       "      <td>1409</td>\n",
       "      <td>44787</td>\n",
       "    </tr>\n",
       "    <tr>\n",
       "      <th>region_2</th>\n",
       "      <td>2081</td>\n",
       "      <td>60572</td>\n",
       "    </tr>\n",
       "    <tr>\n",
       "      <th>region_3</th>\n",
       "      <td>3361</td>\n",
       "      <td>93120</td>\n",
       "    </tr>\n",
       "    <tr>\n",
       "      <th>region_4</th>\n",
       "      <td>2298</td>\n",
       "      <td>71635</td>\n",
       "    </tr>\n",
       "  </tbody>\n",
       "</table>\n",
       "</div>"
      ],
      "text/plain": [
       "spending_habit  Higher spender  Lower spender\n",
       "Region                                       \n",
       "region_1                  1409          44787\n",
       "region_2                  2081          60572\n",
       "region_3                  3361          93120\n",
       "region_4                  2298          71635"
      ]
     },
     "execution_count": 24,
     "metadata": {},
     "output_type": "execute_result"
    }
   ],
   "source": [
    "# see crosstab execution\n",
    "crosstab"
   ]
  },
  {
   "cell_type": "code",
   "execution_count": 25,
   "id": "29f5aecf",
   "metadata": {},
   "outputs": [
    {
     "data": {
      "image/png": "[encoded data removed]",
      "text/plain": [
       "<Figure size 720x360 with 1 Axes>"
      ]
     },
     "metadata": {
      "needs_background": "light"
     },
     "output_type": "display_data"
    }
   ],
   "source": [
    "ax = crosstab.plot.bar(title='Regionwise Customer Spendings',figsize=(10,5),ylabel=\"Customer_counts\", fontsize='large')\n",
    "for item in (ax.get_xticklabels() + ax.get_yticklabels()) : item.set_fontsize(10)\n",
    "for item in ([ax.xaxis.label, ax.yaxis.label]) : item.set_fontsize(18)\n",
    "for item in ([ax.title]) : item.set_fontsize(22)\n",
    "for item in (ax.get_legend().get_texts()) : item.set_fontsize(18)\n",
    "path = r'D:\\PythonPrjkt\\Instacart Basket Analysis\\04_Analysis\\Visualizations'\n",
    "ax.figure.savefig(os.path.join(path,'Regionwise Customer Spendings.png'))"
   ]
  },
  {
   "cell_type": "markdown",
   "id": "c5a62d38",
   "metadata": {},
   "source": [
    "## Question : Determine whether there’s a difference in spending habits between the different U.S. regions\n",
    "## Answer :  The chart shows the answer."
   ]
  },
  {
   "cell_type": "markdown",
   "id": "77ff81c9",
   "metadata": {},
   "source": [
    "## creating exclusion flag for low activity customers"
   ]
  },
  {
   "cell_type": "code",
   "execution_count": 26,
   "id": "c5f8ee5f",
   "metadata": {},
   "outputs": [],
   "source": [
    "df.loc[df['max_order'] < 5, 'Exclusion_flag'] = 'Exclude'"
   ]
  },
  {
   "cell_type": "code",
   "execution_count": 27,
   "id": "08fe6968",
   "metadata": {},
   "outputs": [
    {
     "data": {
      "text/plain": [
       "0    Exclude\n",
       "1    Exclude\n",
       "2    Exclude\n",
       "3    Exclude\n",
       "4        NaN\n",
       "Name: Exclusion_flag, dtype: object"
      ]
     },
     "execution_count": 27,
     "metadata": {},
     "output_type": "execute_result"
    }
   ],
   "source": [
    "#check if flag created\n",
    "df['Exclusion_flag'].head()"
   ]
  },
  {
   "cell_type": "code",
   "execution_count": 28,
   "id": "3d121bbd",
   "metadata": {},
   "outputs": [],
   "source": [
    "df = df[df.Exclusion_flag != 'Exclude']"
   ]
  },
  {
   "cell_type": "code",
   "execution_count": 29,
   "id": "1fe91631",
   "metadata": {},
   "outputs": [
    {
     "data": {
      "text/plain": [
       "count       0\n",
       "unique      0\n",
       "top       NaN\n",
       "freq      NaN\n",
       "Name: Exclusion_flag, dtype: object"
      ]
     },
     "execution_count": 29,
     "metadata": {},
     "output_type": "execute_result"
    }
   ],
   "source": [
    "df['Exclusion_flag'].describe()"
   ]
  },
  {
   "cell_type": "code",
   "execution_count": 30,
   "id": "95c0c625",
   "metadata": {},
   "outputs": [
    {
     "data": {
      "text/plain": [
       "(238585, 32)"
      ]
     },
     "execution_count": 30,
     "metadata": {},
     "output_type": "execute_result"
    }
   ],
   "source": [
    "df.shape"
   ]
  },
  {
   "cell_type": "code",
   "execution_count": 31,
   "id": "06476b39",
   "metadata": {},
   "outputs": [],
   "source": [
    "df_exclude = df[df.Exclusion_flag == 'Exclude']"
   ]
  },
  {
   "cell_type": "code",
   "execution_count": 32,
   "id": "07298266",
   "metadata": {},
   "outputs": [
    {
     "data": {
      "text/html": [
       "<div>\n",
       "<style scoped>\n",
       "    .dataframe tbody tr th:only-of-type {\n",
       "        vertical-align: middle;\n",
       "    }\n",
       "\n",
       "    .dataframe tbody tr th {\n",
       "        vertical-align: top;\n",
       "    }\n",
       "\n",
       "    .dataframe thead th {\n",
       "        text-align: right;\n",
       "    }\n",
       "</style>\n",
       "<table border=\"1\" class=\"dataframe\">\n",
       "  <thead>\n",
       "    <tr style=\"text-align: right;\">\n",
       "      <th></th>\n",
       "      <th>Unnamed: 0_x</th>\n",
       "      <th>order_id</th>\n",
       "      <th>user_id</th>\n",
       "      <th>order_number</th>\n",
       "      <th>orders_day_of_week</th>\n",
       "      <th>Order_time_of_day</th>\n",
       "      <th>days_since_prior_order</th>\n",
       "      <th>product_id</th>\n",
       "      <th>add_to_cart_order</th>\n",
       "      <th>reordered</th>\n",
       "      <th>Unnamed: 0_y</th>\n",
       "      <th>product_name</th>\n",
       "      <th>aisle_id</th>\n",
       "      <th>department_id</th>\n",
       "      <th>prices</th>\n",
       "      <th>previous_merge</th>\n",
       "      <th>max_order</th>\n",
       "      <th>loyalty_flag</th>\n",
       "      <th>user_avg_price</th>\n",
       "      <th>spending_habit</th>\n",
       "      <th>median_order_duration</th>\n",
       "      <th>order_frequency</th>\n",
       "      <th>Gender</th>\n",
       "      <th>state</th>\n",
       "      <th>Age</th>\n",
       "      <th>date_joined</th>\n",
       "      <th>Number of dependants</th>\n",
       "      <th>Marital status</th>\n",
       "      <th>income</th>\n",
       "      <th>_merge</th>\n",
       "      <th>Region</th>\n",
       "      <th>Exclusion_flag</th>\n",
       "    </tr>\n",
       "  </thead>\n",
       "  <tbody>\n",
       "  </tbody>\n",
       "</table>\n",
       "</div>"
      ],
      "text/plain": [
       "Empty DataFrame\n",
       "Columns: [Unnamed: 0_x, order_id, user_id, order_number, orders_day_of_week, Order_time_of_day, days_since_prior_order, product_id, add_to_cart_order, reordered, Unnamed: 0_y, product_name, aisle_id, department_id, prices, previous_merge, max_order, loyalty_flag, user_avg_price, spending_habit, median_order_duration, order_frequency, Gender, state, Age, date_joined, Number of dependants, Marital status, income, _merge, Region, Exclusion_flag]\n",
       "Index: []"
      ]
     },
     "execution_count": 32,
     "metadata": {},
     "output_type": "execute_result"
    }
   ],
   "source": [
    "df_exclude.head()"
   ]
  },
  {
   "cell_type": "code",
   "execution_count": 33,
   "id": "c3dfd247",
   "metadata": {},
   "outputs": [],
   "source": [
    "df.to_csv(r'D:\\PythonPrjkt\\Instacart Basket Analysis\\02_Data\\2.7_Prepared data\\4.10_with_excluded_users.csv')"
   ]
  },
  {
   "cell_type": "code",
   "execution_count": 34,
   "id": "e653a016",
   "metadata": {},
   "outputs": [],
   "source": [
    "depo = pd.read_csv(r'D:\\PythonPrjkt\\Instacart Basket Analysis\\02_Data\\2.7_Prepared data\\departments_wrangled.csv',index_col=False)"
   ]
  },
  {
   "cell_type": "markdown",
   "id": "3ff1e466",
   "metadata": {},
   "source": [
    "## Creating profiles"
   ]
  },
  {
   "cell_type": "code",
   "execution_count": 46,
   "id": "eecb6db0",
   "metadata": {},
   "outputs": [],
   "source": [
    "df.loc[(df['Number of dependants'] > 0) & (df['Marital status'] == \"married\") & (df['Age'] > 30) & (df['income'] < 150000), 'Profile'] = \"Middle_class_family\"\n",
    "df.loc[(df['Number of dependants'] > 0) & (df['Marital status'] == \"married\") & (df['income'] > 150000), 'Profile'] = \"wealthy_family\"\n",
    "df.loc[(df['Age'] <= 30) & (df['Number of dependants'] == 0) & (df['Marital status'].isin([\"single\",\"divorced/widowed\"])), 'Profile'] = \"Young_single\"\n",
    "df.loc[(df['Age'] > 30) & (df['Number of dependants'] == 0) & (df['Marital status'].isin([\"single\",\"divorced/widowed\"])), 'Profile'] = \"Senior_single\"\n",
    "df.loc[(df['Age'] <= 30) & (df['Number of dependants'] > 0) & (df['Marital status'].isin([\"married\",\"living with parents and siblings\"])), 'Profile'] = \"Young_family\"\n"
   ]
  },
  {
   "cell_type": "markdown",
   "id": "bce88ba5",
   "metadata": {},
   "source": [
    "## income classes\n",
    "<100000 = budget , <100000 but <150000 = middle class, >150000 = Wealthy"
   ]
  },
  {
   "cell_type": "code",
   "execution_count": 47,
   "id": "e11cb704",
   "metadata": {},
   "outputs": [
    {
     "data": {
      "text/plain": [
       "married                             166836\n",
       "single                               39895\n",
       "divorced/widowed                     20378\n",
       "living with parents and siblings     11476\n",
       "Name: Marital status, dtype: int64"
      ]
     },
     "execution_count": 47,
     "metadata": {},
     "output_type": "execute_result"
    }
   ],
   "source": [
    "df['Marital status'].value_counts()"
   ]
  },
  {
   "cell_type": "code",
   "execution_count": 48,
   "id": "2604b178",
   "metadata": {
    "scrolled": true
   },
   "outputs": [
    {
     "data": {
      "text/html": [
       "<div>\n",
       "<style scoped>\n",
       "    .dataframe tbody tr th:only-of-type {\n",
       "        vertical-align: middle;\n",
       "    }\n",
       "\n",
       "    .dataframe tbody tr th {\n",
       "        vertical-align: top;\n",
       "    }\n",
       "\n",
       "    .dataframe thead th {\n",
       "        text-align: right;\n",
       "    }\n",
       "</style>\n",
       "<table border=\"1\" class=\"dataframe\">\n",
       "  <thead>\n",
       "    <tr style=\"text-align: right;\">\n",
       "      <th></th>\n",
       "      <th>Unnamed: 0_x</th>\n",
       "      <th>order_id</th>\n",
       "      <th>user_id</th>\n",
       "      <th>order_number</th>\n",
       "      <th>orders_day_of_week</th>\n",
       "      <th>Order_time_of_day</th>\n",
       "      <th>days_since_prior_order</th>\n",
       "      <th>product_id</th>\n",
       "      <th>add_to_cart_order</th>\n",
       "      <th>reordered</th>\n",
       "      <th>Unnamed: 0_y</th>\n",
       "      <th>product_name</th>\n",
       "      <th>aisle_id</th>\n",
       "      <th>department_id</th>\n",
       "      <th>prices</th>\n",
       "      <th>previous_merge</th>\n",
       "      <th>max_order</th>\n",
       "      <th>loyalty_flag</th>\n",
       "      <th>user_avg_price</th>\n",
       "      <th>spending_habit</th>\n",
       "      <th>median_order_duration</th>\n",
       "      <th>order_frequency</th>\n",
       "      <th>Gender</th>\n",
       "      <th>state</th>\n",
       "      <th>Age</th>\n",
       "      <th>date_joined</th>\n",
       "      <th>Number of dependants</th>\n",
       "      <th>Marital status</th>\n",
       "      <th>income</th>\n",
       "      <th>_merge</th>\n",
       "      <th>Region</th>\n",
       "      <th>Exclusion_flag</th>\n",
       "      <th>Profile</th>\n",
       "    </tr>\n",
       "  </thead>\n",
       "  <tbody>\n",
       "    <tr>\n",
       "      <th>4</th>\n",
       "      <td>6612</td>\n",
       "      <td>95113</td>\n",
       "      <td>410</td>\n",
       "      <td>2</td>\n",
       "      <td>1</td>\n",
       "      <td>18</td>\n",
       "      <td>7.0</td>\n",
       "      <td>25146</td>\n",
       "      <td>18</td>\n",
       "      <td>0</td>\n",
       "      <td>25147</td>\n",
       "      <td>Original Orange Juice</td>\n",
       "      <td>31</td>\n",
       "      <td>7</td>\n",
       "      <td>8.4</td>\n",
       "      <td>both</td>\n",
       "      <td>28</td>\n",
       "      <td>Regular customer</td>\n",
       "      <td>6.588889</td>\n",
       "      <td>Lower spender</td>\n",
       "      <td>7.0</td>\n",
       "      <td>Frequent customer</td>\n",
       "      <td>Female</td>\n",
       "      <td>Alaska</td>\n",
       "      <td>69</td>\n",
       "      <td>3/17/2020</td>\n",
       "      <td>3</td>\n",
       "      <td>married</td>\n",
       "      <td>73977</td>\n",
       "      <td>both</td>\n",
       "      <td>region_4</td>\n",
       "      <td>NaN</td>\n",
       "      <td>Middle_class_family</td>\n",
       "    </tr>\n",
       "    <tr>\n",
       "      <th>5</th>\n",
       "      <td>6612</td>\n",
       "      <td>95113</td>\n",
       "      <td>410</td>\n",
       "      <td>2</td>\n",
       "      <td>1</td>\n",
       "      <td>18</td>\n",
       "      <td>7.0</td>\n",
       "      <td>16797</td>\n",
       "      <td>7</td>\n",
       "      <td>1</td>\n",
       "      <td>16797</td>\n",
       "      <td>Strawberries</td>\n",
       "      <td>24</td>\n",
       "      <td>4</td>\n",
       "      <td>1.3</td>\n",
       "      <td>both</td>\n",
       "      <td>28</td>\n",
       "      <td>Regular customer</td>\n",
       "      <td>6.588889</td>\n",
       "      <td>Lower spender</td>\n",
       "      <td>7.0</td>\n",
       "      <td>Frequent customer</td>\n",
       "      <td>Female</td>\n",
       "      <td>Alaska</td>\n",
       "      <td>69</td>\n",
       "      <td>3/17/2020</td>\n",
       "      <td>3</td>\n",
       "      <td>married</td>\n",
       "      <td>73977</td>\n",
       "      <td>both</td>\n",
       "      <td>region_4</td>\n",
       "      <td>NaN</td>\n",
       "      <td>Middle_class_family</td>\n",
       "    </tr>\n",
       "    <tr>\n",
       "      <th>6</th>\n",
       "      <td>6638</td>\n",
       "      <td>103063</td>\n",
       "      <td>410</td>\n",
       "      <td>28</td>\n",
       "      <td>3</td>\n",
       "      <td>16</td>\n",
       "      <td>10.0</td>\n",
       "      <td>16797</td>\n",
       "      <td>2</td>\n",
       "      <td>1</td>\n",
       "      <td>16797</td>\n",
       "      <td>Strawberries</td>\n",
       "      <td>24</td>\n",
       "      <td>4</td>\n",
       "      <td>1.3</td>\n",
       "      <td>both</td>\n",
       "      <td>28</td>\n",
       "      <td>Regular customer</td>\n",
       "      <td>6.588889</td>\n",
       "      <td>Lower spender</td>\n",
       "      <td>7.0</td>\n",
       "      <td>Frequent customer</td>\n",
       "      <td>Female</td>\n",
       "      <td>Alaska</td>\n",
       "      <td>69</td>\n",
       "      <td>3/17/2020</td>\n",
       "      <td>3</td>\n",
       "      <td>married</td>\n",
       "      <td>73977</td>\n",
       "      <td>both</td>\n",
       "      <td>region_4</td>\n",
       "      <td>NaN</td>\n",
       "      <td>Middle_class_family</td>\n",
       "    </tr>\n",
       "    <tr>\n",
       "      <th>7</th>\n",
       "      <td>6612</td>\n",
       "      <td>95113</td>\n",
       "      <td>410</td>\n",
       "      <td>2</td>\n",
       "      <td>1</td>\n",
       "      <td>18</td>\n",
       "      <td>7.0</td>\n",
       "      <td>47209</td>\n",
       "      <td>9</td>\n",
       "      <td>0</td>\n",
       "      <td>47213</td>\n",
       "      <td>Organic Hass Avocado</td>\n",
       "      <td>24</td>\n",
       "      <td>4</td>\n",
       "      <td>4.0</td>\n",
       "      <td>both</td>\n",
       "      <td>28</td>\n",
       "      <td>Regular customer</td>\n",
       "      <td>6.588889</td>\n",
       "      <td>Lower spender</td>\n",
       "      <td>7.0</td>\n",
       "      <td>Frequent customer</td>\n",
       "      <td>Female</td>\n",
       "      <td>Alaska</td>\n",
       "      <td>69</td>\n",
       "      <td>3/17/2020</td>\n",
       "      <td>3</td>\n",
       "      <td>married</td>\n",
       "      <td>73977</td>\n",
       "      <td>both</td>\n",
       "      <td>region_4</td>\n",
       "      <td>NaN</td>\n",
       "      <td>Middle_class_family</td>\n",
       "    </tr>\n",
       "    <tr>\n",
       "      <th>8</th>\n",
       "      <td>6612</td>\n",
       "      <td>95113</td>\n",
       "      <td>410</td>\n",
       "      <td>2</td>\n",
       "      <td>1</td>\n",
       "      <td>18</td>\n",
       "      <td>7.0</td>\n",
       "      <td>26604</td>\n",
       "      <td>26</td>\n",
       "      <td>0</td>\n",
       "      <td>26605</td>\n",
       "      <td>Organic Blackberries</td>\n",
       "      <td>24</td>\n",
       "      <td>4</td>\n",
       "      <td>12.2</td>\n",
       "      <td>both</td>\n",
       "      <td>28</td>\n",
       "      <td>Regular customer</td>\n",
       "      <td>6.588889</td>\n",
       "      <td>Lower spender</td>\n",
       "      <td>7.0</td>\n",
       "      <td>Frequent customer</td>\n",
       "      <td>Female</td>\n",
       "      <td>Alaska</td>\n",
       "      <td>69</td>\n",
       "      <td>3/17/2020</td>\n",
       "      <td>3</td>\n",
       "      <td>married</td>\n",
       "      <td>73977</td>\n",
       "      <td>both</td>\n",
       "      <td>region_4</td>\n",
       "      <td>NaN</td>\n",
       "      <td>Middle_class_family</td>\n",
       "    </tr>\n",
       "  </tbody>\n",
       "</table>\n",
       "</div>"
      ],
      "text/plain": [
       "   Unnamed: 0_x  order_id user_id  order_number  orders_day_of_week  \\\n",
       "4          6612     95113     410             2                   1   \n",
       "5          6612     95113     410             2                   1   \n",
       "6          6638    103063     410            28                   3   \n",
       "7          6612     95113     410             2                   1   \n",
       "8          6612     95113     410             2                   1   \n",
       "\n",
       "   Order_time_of_day  days_since_prior_order  product_id  add_to_cart_order  \\\n",
       "4                 18                     7.0       25146                 18   \n",
       "5                 18                     7.0       16797                  7   \n",
       "6                 16                    10.0       16797                  2   \n",
       "7                 18                     7.0       47209                  9   \n",
       "8                 18                     7.0       26604                 26   \n",
       "\n",
       "   reordered  Unnamed: 0_y           product_name  aisle_id department_id  \\\n",
       "4          0         25147  Original Orange Juice        31             7   \n",
       "5          1         16797           Strawberries        24             4   \n",
       "6          1         16797           Strawberries        24             4   \n",
       "7          0         47213   Organic Hass Avocado        24             4   \n",
       "8          0         26605   Organic Blackberries        24             4   \n",
       "\n",
       "   prices previous_merge  max_order      loyalty_flag  user_avg_price  \\\n",
       "4     8.4           both         28  Regular customer        6.588889   \n",
       "5     1.3           both         28  Regular customer        6.588889   \n",
       "6     1.3           both         28  Regular customer        6.588889   \n",
       "7     4.0           both         28  Regular customer        6.588889   \n",
       "8    12.2           both         28  Regular customer        6.588889   \n",
       "\n",
       "  spending_habit  median_order_duration    order_frequency  Gender   state  \\\n",
       "4  Lower spender                    7.0  Frequent customer  Female  Alaska   \n",
       "5  Lower spender                    7.0  Frequent customer  Female  Alaska   \n",
       "6  Lower spender                    7.0  Frequent customer  Female  Alaska   \n",
       "7  Lower spender                    7.0  Frequent customer  Female  Alaska   \n",
       "8  Lower spender                    7.0  Frequent customer  Female  Alaska   \n",
       "\n",
       "   Age date_joined  Number of dependants Marital status  income _merge  \\\n",
       "4   69   3/17/2020                     3        married   73977   both   \n",
       "5   69   3/17/2020                     3        married   73977   both   \n",
       "6   69   3/17/2020                     3        married   73977   both   \n",
       "7   69   3/17/2020                     3        married   73977   both   \n",
       "8   69   3/17/2020                     3        married   73977   both   \n",
       "\n",
       "     Region Exclusion_flag              Profile  \n",
       "4  region_4            NaN  Middle_class_family  \n",
       "5  region_4            NaN  Middle_class_family  \n",
       "6  region_4            NaN  Middle_class_family  \n",
       "7  region_4            NaN  Middle_class_family  \n",
       "8  region_4            NaN  Middle_class_family  "
      ]
     },
     "execution_count": 48,
     "metadata": {},
     "output_type": "execute_result"
    }
   ],
   "source": [
    "df.head()"
   ]
  },
  {
   "cell_type": "code",
   "execution_count": 49,
   "id": "a98fa4d1",
   "metadata": {
    "scrolled": false
   },
   "outputs": [
    {
     "data": {
      "text/plain": [
       "Middle_class_family    118336\n",
       "Senior_single           48698\n",
       "Young_family            36917\n",
       "wealthy_family          23059\n",
       "Young_single            11575\n",
       "Name: Profile, dtype: int64"
      ]
     },
     "execution_count": 49,
     "metadata": {},
     "output_type": "execute_result"
    }
   ],
   "source": [
    "df['Profile'].value_counts()"
   ]
  },
  {
   "cell_type": "code",
   "execution_count": 50,
   "id": "5a39b017",
   "metadata": {
    "scrolled": true
   },
   "outputs": [
    {
     "data": {
      "image/png": "[encoded data removed]",
      "text/plain": [
       "<Figure size 1800x720 with 1 Axes>"
      ]
     },
     "metadata": {
      "needs_background": "light"
     },
     "output_type": "display_data"
    }
   ],
   "source": [
    "ax = pd.crosstab(df['Region'], df['Profile'], dropna = False).plot.bar(title='Regionwise Customer Profile Distribution',figsize=(25,10),ylabel=\"Profile_counts\", fontsize='large')\n",
    "for item in (ax.get_xticklabels() + ax.get_yticklabels()) : item.set_fontsize(14)\n",
    "for item in ([ax.xaxis.label, ax.yaxis.label]) : item.set_fontsize(18)\n",
    "for item in ([ax.title]) : item.set_fontsize(22)\n",
    "for item in (ax.get_legend().get_texts()) : item.set_fontsize(18)\n",
    "\n",
    "path = r'D:\\PythonPrjkt\\Instacart Basket Analysis\\04_Analysis\\Visualizations'\n",
    "ax.figure.savefig(os.path.join(path,'Regionwise Customer Profile Distribution.png'))\n"
   ]
  },
  {
   "cell_type": "code",
   "execution_count": 51,
   "id": "c28d537b",
   "metadata": {},
   "outputs": [],
   "source": [
    "df['department_id'] = df['department_id'].astype('str')"
   ]
  },
  {
   "cell_type": "code",
   "execution_count": 52,
   "id": "c77a3be3",
   "metadata": {},
   "outputs": [
    {
     "data": {
      "image/png": "[encoded data removed]",
      "text/plain": [
       "<Figure size 720x360 with 1 Axes>"
      ]
     },
     "metadata": {
      "needs_background": "light"
     },
     "output_type": "display_data"
    }
   ],
   "source": [
    "pt = df[df['Profile']== \"Middle_class_family\"].groupby('department_id')['order_number'].sum()\n",
    "\n",
    "ax = pt.plot.bar(title='Middle_class_family Spendings',figsize=(10,5),ylabel=\"Total prices\", fontsize='large')\n",
    "\n",
    "for item in (ax.get_xticklabels() + ax.get_yticklabels()) : item.set_fontsize(10)\n",
    "for item in ([ax.xaxis.label, ax.yaxis.label]) : item.set_fontsize(18)\n",
    "for item in ([ax.title]) : item.set_fontsize(22)\n",
    "#for item in (ax.get_legend().get_texts()) : item.set_fontsize(18)\n",
    "path = r'D:\\PythonPrjkt\\Instacart Basket Analysis\\04_Analysis\\Visualizations'\n",
    "ax.figure.savefig(os.path.join(path,'Middle_class_family Spendings.png'))"
   ]
  },
  {
   "cell_type": "code",
   "execution_count": 53,
   "id": "f5659aaa",
   "metadata": {},
   "outputs": [
    {
     "data": {
      "image/png": "[encoded data removed]",
      "text/plain": [
       "<Figure size 720x360 with 1 Axes>"
      ]
     },
     "metadata": {
      "needs_background": "light"
     },
     "output_type": "display_data"
    }
   ],
   "source": [
    "pt = df[df['Profile']== \"Senior_single\"].groupby('department_id')['prices'].sum()\n",
    "\n",
    "ax = pt.plot.bar(title='Senior_single Spendings',figsize=(10,5),ylabel=\"Total prices\", fontsize='large')\n",
    "\n",
    "for item in (ax.get_xticklabels() + ax.get_yticklabels()) : item.set_fontsize(10)\n",
    "for item in ([ax.xaxis.label, ax.yaxis.label]) : item.set_fontsize(18)\n",
    "for item in ([ax.title]) : item.set_fontsize(22)\n",
    "#for item in (ax.get_legend().get_texts()) : item.set_fontsize(18)\n",
    "path = r'D:\\PythonPrjkt\\Instacart Basket Analysis\\04_Analysis\\Visualizations'\n",
    "ax.figure.savefig(os.path.join(path,'Senior_single Spendings.png'))"
   ]
  },
  {
   "cell_type": "code",
   "execution_count": 54,
   "id": "d3f383fd",
   "metadata": {},
   "outputs": [
    {
     "data": {
      "image/png": "[encoded data removed]",
      "text/plain": [
       "<Figure size 720x360 with 1 Axes>"
      ]
     },
     "metadata": {
      "needs_background": "light"
     },
     "output_type": "display_data"
    }
   ],
   "source": [
    "pt = df[df['Profile']== \"Young_single\"].groupby('department_id')['prices'].sum()\n",
    "ax = pt.plot.bar(title='Young Single Spendings',figsize=(10,5),ylabel=\"Total prices\", fontsize='large')\n",
    "\n",
    "for item in (ax.get_xticklabels() + ax.get_yticklabels()) : item.set_fontsize(10)\n",
    "for item in ([ax.xaxis.label, ax.yaxis.label]) : item.set_fontsize(18)\n",
    "for item in ([ax.title]) : item.set_fontsize(22)\n",
    "#for item in (ax.get_legend().get_texts()) : item.set_fontsize(18)\n",
    "path = r'D:\\PythonPrjkt\\Instacart Basket Analysis\\04_Analysis\\Visualizations'\n",
    "ax.figure.savefig(os.path.join(path,'Young_single_Spendings.png'))"
   ]
  },
  {
   "cell_type": "code",
   "execution_count": 55,
   "id": "4d8c96b8",
   "metadata": {},
   "outputs": [
    {
     "data": {
      "image/png": "[encoded data removed]",
      "text/plain": [
       "<Figure size 720x360 with 1 Axes>"
      ]
     },
     "metadata": {
      "needs_background": "light"
     },
     "output_type": "display_data"
    }
   ],
   "source": [
    "pt = df[df['Profile']== \"wealthy_family\"].groupby('department_id')['prices'].sum()\n",
    "\n",
    "ax = pt.plot.bar(title='wealthy_family Spendings',figsize=(10,5),ylabel=\"Total prices\", fontsize='large')\n",
    "\n",
    "for item in (ax.get_xticklabels() + ax.get_yticklabels()) : item.set_fontsize(10)\n",
    "for item in ([ax.xaxis.label, ax.yaxis.label]) : item.set_fontsize(18)\n",
    "for item in ([ax.title]) : item.set_fontsize(22)\n",
    "#for item in (ax.get_legend().get_texts()) : item.set_fontsize(18)\n",
    "path = r'D:\\PythonPrjkt\\Instacart Basket Analysis\\04_Analysis\\Visualizations'\n",
    "ax.figure.savefig(os.path.join(path,'wealthy_family_Spendings.png'))"
   ]
  },
  {
   "cell_type": "code",
   "execution_count": 56,
   "id": "da175e58",
   "metadata": {},
   "outputs": [
    {
     "data": {
      "text/html": [
       "<div>\n",
       "<style scoped>\n",
       "    .dataframe tbody tr th:only-of-type {\n",
       "        vertical-align: middle;\n",
       "    }\n",
       "\n",
       "    .dataframe tbody tr th {\n",
       "        vertical-align: top;\n",
       "    }\n",
       "\n",
       "    .dataframe thead th {\n",
       "        text-align: right;\n",
       "    }\n",
       "</style>\n",
       "<table border=\"1\" class=\"dataframe\">\n",
       "  <thead>\n",
       "    <tr style=\"text-align: right;\">\n",
       "      <th></th>\n",
       "      <th>Unnamed: 0</th>\n",
       "      <th>department</th>\n",
       "    </tr>\n",
       "  </thead>\n",
       "  <tbody>\n",
       "    <tr>\n",
       "      <th>0</th>\n",
       "      <td>1</td>\n",
       "      <td>frozen</td>\n",
       "    </tr>\n",
       "    <tr>\n",
       "      <th>1</th>\n",
       "      <td>2</td>\n",
       "      <td>other</td>\n",
       "    </tr>\n",
       "    <tr>\n",
       "      <th>2</th>\n",
       "      <td>3</td>\n",
       "      <td>bakery</td>\n",
       "    </tr>\n",
       "    <tr>\n",
       "      <th>3</th>\n",
       "      <td>4</td>\n",
       "      <td>produce</td>\n",
       "    </tr>\n",
       "    <tr>\n",
       "      <th>4</th>\n",
       "      <td>5</td>\n",
       "      <td>alcohol</td>\n",
       "    </tr>\n",
       "    <tr>\n",
       "      <th>5</th>\n",
       "      <td>6</td>\n",
       "      <td>international</td>\n",
       "    </tr>\n",
       "    <tr>\n",
       "      <th>6</th>\n",
       "      <td>7</td>\n",
       "      <td>beverages</td>\n",
       "    </tr>\n",
       "    <tr>\n",
       "      <th>7</th>\n",
       "      <td>8</td>\n",
       "      <td>pets</td>\n",
       "    </tr>\n",
       "    <tr>\n",
       "      <th>8</th>\n",
       "      <td>9</td>\n",
       "      <td>dry goods pasta</td>\n",
       "    </tr>\n",
       "    <tr>\n",
       "      <th>9</th>\n",
       "      <td>10</td>\n",
       "      <td>bulk</td>\n",
       "    </tr>\n",
       "    <tr>\n",
       "      <th>10</th>\n",
       "      <td>11</td>\n",
       "      <td>personal care</td>\n",
       "    </tr>\n",
       "    <tr>\n",
       "      <th>11</th>\n",
       "      <td>12</td>\n",
       "      <td>meat seafood</td>\n",
       "    </tr>\n",
       "    <tr>\n",
       "      <th>12</th>\n",
       "      <td>13</td>\n",
       "      <td>pantry</td>\n",
       "    </tr>\n",
       "    <tr>\n",
       "      <th>13</th>\n",
       "      <td>14</td>\n",
       "      <td>breakfast</td>\n",
       "    </tr>\n",
       "    <tr>\n",
       "      <th>14</th>\n",
       "      <td>15</td>\n",
       "      <td>canned goods</td>\n",
       "    </tr>\n",
       "    <tr>\n",
       "      <th>15</th>\n",
       "      <td>16</td>\n",
       "      <td>dairy eggs</td>\n",
       "    </tr>\n",
       "    <tr>\n",
       "      <th>16</th>\n",
       "      <td>17</td>\n",
       "      <td>household</td>\n",
       "    </tr>\n",
       "    <tr>\n",
       "      <th>17</th>\n",
       "      <td>18</td>\n",
       "      <td>babies</td>\n",
       "    </tr>\n",
       "    <tr>\n",
       "      <th>18</th>\n",
       "      <td>19</td>\n",
       "      <td>snacks</td>\n",
       "    </tr>\n",
       "    <tr>\n",
       "      <th>19</th>\n",
       "      <td>20</td>\n",
       "      <td>deli</td>\n",
       "    </tr>\n",
       "    <tr>\n",
       "      <th>20</th>\n",
       "      <td>21</td>\n",
       "      <td>missing</td>\n",
       "    </tr>\n",
       "  </tbody>\n",
       "</table>\n",
       "</div>"
      ],
      "text/plain": [
       "    Unnamed: 0       department\n",
       "0            1           frozen\n",
       "1            2            other\n",
       "2            3           bakery\n",
       "3            4          produce\n",
       "4            5          alcohol\n",
       "5            6    international\n",
       "6            7        beverages\n",
       "7            8             pets\n",
       "8            9  dry goods pasta\n",
       "9           10             bulk\n",
       "10          11    personal care\n",
       "11          12     meat seafood\n",
       "12          13           pantry\n",
       "13          14        breakfast\n",
       "14          15     canned goods\n",
       "15          16       dairy eggs\n",
       "16          17        household\n",
       "17          18           babies\n",
       "18          19           snacks\n",
       "19          20             deli\n",
       "20          21          missing"
      ]
     },
     "execution_count": 56,
     "metadata": {},
     "output_type": "execute_result"
    }
   ],
   "source": [
    "depo"
   ]
  },
  {
   "cell_type": "code",
   "execution_count": 60,
   "id": "c10f8579",
   "metadata": {},
   "outputs": [
    {
     "data": {
      "image/png": "[encoded data removed]",
      "text/plain": [
       "<Figure size 720x360 with 1 Axes>"
      ]
     },
     "metadata": {
      "needs_background": "light"
     },
     "output_type": "display_data"
    }
   ],
   "source": [
    "pt = df[df['department_id']== \"8\"].groupby('Profile')['prices'].sum()\n",
    "\n",
    "ax = pt.plot.bar(title='Department ID,8-Pets',figsize=(10,5),ylabel=\"Total prices\", fontsize='large')\n",
    "\n",
    "for item in (ax.get_xticklabels() + ax.get_yticklabels()) : item.set_fontsize(10)\n",
    "for item in ([ax.xaxis.label, ax.yaxis.label]) : item.set_fontsize(18)\n",
    "for item in ([ax.title]) : item.set_fontsize(22)\n",
    "#for item in (ax.get_legend().get_texts()) : item.set_fontsize(18)\n",
    "path = r'D:\\PythonPrjkt\\Instacart Basket Analysis\\04_Analysis\\Visualizations'\n",
    "ax.figure.savefig(os.path.join(path,'Department ID,8-Pets.png'))"
   ]
  },
  {
   "cell_type": "code",
   "execution_count": 61,
   "id": "9548e709",
   "metadata": {},
   "outputs": [
    {
     "data": {
      "image/png": "[encoded data removed]",
      "text/plain": [
       "<Figure size 720x360 with 1 Axes>"
      ]
     },
     "metadata": {
      "needs_background": "light"
     },
     "output_type": "display_data"
    }
   ],
   "source": [
    "pt = df[df['department_id']== \"2\"].groupby('Profile')['prices'].sum()\n",
    "\n",
    "ax = pt.plot.bar(title='Department ID,2-Other',figsize=(10,5),ylabel=\"Total prices\", fontsize='large')\n",
    "\n",
    "for item in (ax.get_xticklabels() + ax.get_yticklabels()) : item.set_fontsize(10)\n",
    "for item in ([ax.xaxis.label, ax.yaxis.label]) : item.set_fontsize(18)\n",
    "for item in ([ax.title]) : item.set_fontsize(22)\n",
    "#for item in (ax.get_legend().get_texts()) : item.set_fontsize(18)\n",
    "path = r'D:\\PythonPrjkt\\Instacart Basket Analysis\\04_Analysis\\Visualizations'\n",
    "ax.figure.savefig(os.path.join(path,'Department ID,2-Other.png'))"
   ]
  },
  {
   "cell_type": "code",
   "execution_count": 62,
   "id": "1da9e2d3",
   "metadata": {},
   "outputs": [],
   "source": [
    "department_vs_products = df.groupby('department_id').agg({'product_id': \"count\"}).sort_values(by = 'product_id',ascending = False)\n"
   ]
  },
  {
   "cell_type": "code",
   "execution_count": 63,
   "id": "991dd9da",
   "metadata": {},
   "outputs": [
    {
     "data": {
      "image/png": "[encoded data removed]",
      "text/plain": [
       "<Figure size 720x360 with 1 Axes>"
      ]
     },
     "metadata": {
      "needs_background": "light"
     },
     "output_type": "display_data"
    }
   ],
   "source": [
    "ax = department_vs_products.plot.bar(title='Departmentwise Product Sales',figsize=(10,5),ylabel=\"Product_counts\", fontsize='large')\n",
    "#for item in ([ax.title, ax.xaxis.label, ax.yaxis.label]) : item.set_fontsize(20)\n",
    "for item in (ax.get_xticklabels() + ax.get_yticklabels()) : item.set_fontsize(10)\n",
    "for item in ([ax.xaxis.label, ax.yaxis.label]) : item.set_fontsize(18)\n",
    "for item in ([ax.title]) : item.set_fontsize(22)\n",
    "for item in (ax.get_legend().get_texts()) : item.set_fontsize(18)\n",
    "    \n",
    "path = r'D:\\PythonPrjkt\\Instacart Basket Analysis\\04_Analysis\\Visualizations'\n",
    "ax.figure.savefig(os.path.join(path,'Departmentwise Product Sales.png'))\n",
    "    "
   ]
  },
  {
   "cell_type": "code",
   "execution_count": 66,
   "id": "aab0541b",
   "metadata": {},
   "outputs": [],
   "source": [
    "scatter = df.groupby('prices')['product_id'].nunique()"
   ]
  },
  {
   "cell_type": "code",
   "execution_count": 67,
   "id": "2fd64afd",
   "metadata": {},
   "outputs": [
    {
     "name": "stderr",
     "output_type": "stream",
     "text": [
      "No handles with labels found to put in legend.\n"
     ]
    },
    {
     "data": {
      "image/png": "[encoded data removed]",
      "text/plain": [
       "<Figure size 864x576 with 1 Axes>"
      ]
     },
     "metadata": {
      "needs_background": "light"
     },
     "output_type": "display_data"
    }
   ],
   "source": [
    "fig = plt.gcf()\n",
    "# Change seaborn plot size\n",
    "fig.set_size_inches(12, 8)\n",
    "\n",
    "ax = sns.scatterplot(data = scatter,palette=['green'])\n",
    "\n",
    "ax.set_title(\"Product Prices Distribution\",y=1,fontsize=20,fontweight='bold')\n",
    "ax.set_ylabel(\"Number of products\",fontsize=18)\n",
    "ax.set_xlabel(\"Prices\",fontsize=18)\n",
    "ax.legend(loc=\"center right\")\n",
    "ax.legend(labels=[\"Product_id\"], fontsize = 16)\n",
    "\n",
    "path = r'D:\\PythonPrjkt\\Instacart Basket Analysis\\04_Analysis\\Visualizations'\n",
    "ax.figure.savefig(os.path.join(path,'Product Prices Distribution.png'))\n"
   ]
  },
  {
   "cell_type": "code",
   "execution_count": 68,
   "id": "d5fa3864",
   "metadata": {},
   "outputs": [],
   "source": [
    "crosstab = pd.crosstab(df['Region'], df['order_frequency'], dropna = False)"
   ]
  },
  {
   "cell_type": "code",
   "execution_count": 69,
   "id": "7bbd50e5",
   "metadata": {},
   "outputs": [
    {
     "data": {
      "image/png": "[encoded data removed]",
      "text/plain": [
       "<Figure size 720x360 with 1 Axes>"
      ]
     },
     "metadata": {
      "needs_background": "light"
     },
     "output_type": "display_data"
    }
   ],
   "source": [
    "ax = crosstab.plot.bar(title='Customer Loyalty',figsize=(10,5),ylabel=\"Product_counts\", fontsize='large')\n",
    "#for item in ([ax.title, ax.xaxis.label, ax.yaxis.label]) : item.set_fontsize(20)\n",
    "for item in (ax.get_xticklabels() + ax.get_yticklabels()) : item.set_fontsize(10)\n",
    "for item in ([ax.xaxis.label, ax.yaxis.label]) : item.set_fontsize(18)\n",
    "for item in ([ax.title]) : item.set_fontsize(22)\n",
    "for item in (ax.get_legend().get_texts()) : item.set_fontsize(18)\n",
    "    \n",
    "path = r'D:\\PythonPrjkt\\Instacart Basket Analysis\\04_Analysis\\Visualizations'\n",
    "ax.figure.savefig(os.path.join(path,'Regionwise Customer Loyalty.png'))"
   ]
  },
  {
   "cell_type": "code",
   "execution_count": 70,
   "id": "4c47defc",
   "metadata": {},
   "outputs": [],
   "source": [
    "crosstab = pd.crosstab(df['loyalty_flag'], df['spending_habit'], dropna = False)"
   ]
  },
  {
   "cell_type": "code",
   "execution_count": 71,
   "id": "54001b96",
   "metadata": {},
   "outputs": [
    {
     "data": {
      "image/png": "[encoded data removed]",
      "text/plain": [
       "<Figure size 1440x720 with 1 Axes>"
      ]
     },
     "metadata": {
      "needs_background": "light"
     },
     "output_type": "display_data"
    }
   ],
   "source": [
    "ax = crosstab.plot.bar(title='Customer Loyalty vs Spending Habits',figsize=(20,10),ylabel=\"Number of Customers\", fontsize='large')\n",
    "#for item in ([ax.title, ax.xaxis.label, ax.yaxis.label]) : item.set_fontsize(20)\n",
    "for item in (ax.get_xticklabels() + ax.get_yticklabels()) : item.set_fontsize(12)\n",
    "for item in ([ax.xaxis.label, ax.yaxis.label]) : item.set_fontsize(18)\n",
    "for item in ([ax.title]) : item.set_fontsize(22)\n",
    "for item in (ax.get_legend().get_texts()) : item.set_fontsize(18)\n",
    "    \n",
    "path = r'D:\\PythonPrjkt\\Instacart Basket Analysis\\04_Analysis\\Visualizations'\n",
    "ax.figure.savefig(os.path.join(path,'Customer Loyalty vs Spending Habits.png'))"
   ]
  },
  {
   "cell_type": "code",
   "execution_count": 81,
   "id": "8c0a2fce",
   "metadata": {},
   "outputs": [],
   "source": [
    "pt = df['Order_time_of_day'].value_counts().sort_index()"
   ]
  },
  {
   "cell_type": "code",
   "execution_count": 82,
   "id": "c4a32da1",
   "metadata": {},
   "outputs": [
    {
     "data": {
      "image/png": "[encoded data removed]",
      "text/plain": [
       "<Figure size 720x360 with 1 Axes>"
      ]
     },
     "metadata": {
      "needs_background": "light"
     },
     "output_type": "display_data"
    }
   ],
   "source": [
    "ax = pt.plot.bar(title='Busiest Hour Of The Day based on Order Counts',figsize=(10,5),ylabel=\"Counts\", fontsize='large')\n",
    "#for item in ([ax.title, ax.xaxis.label, ax.yaxis.label]) : item.set_fontsize(20)\n",
    "for item in (ax.get_xticklabels() + ax.get_yticklabels()) : item.set_fontsize(12)\n",
    "for item in ([ax.xaxis.label, ax.yaxis.label]) : item.set_fontsize(18)\n",
    "for item in ([ax.title]) : item.set_fontsize(22)\n",
    "#for item in (ax.get_legend().get_texts()) : item.set_fontsize(18)\n",
    "    \n",
    "path = r'D:\\PythonPrjkt\\Instacart Basket Analysis\\04_Analysis\\Visualizations'\n",
    "ax.figure.savefig(os.path.join(path,'Busiest Hour Of The Day.png'))"
   ]
  },
  {
   "cell_type": "code",
   "execution_count": 83,
   "id": "c027a431",
   "metadata": {},
   "outputs": [
    {
     "data": {
      "image/png": "[encoded data removed]",
      "text/plain": [
       "<Figure size 720x360 with 1 Axes>"
      ]
     },
     "metadata": {
      "needs_background": "light"
     },
     "output_type": "display_data"
    }
   ],
   "source": [
    "pt = df.groupby('Order_time_of_day').agg({'prices': \"sum\"}).sort_index()\n",
    "\n",
    "ax = pt.plot.bar(title='Highest Revenue Generating Hour',figsize=(10,5),ylabel=\"Counts\", fontsize='large')\n",
    "#for item in ([ax.title, ax.xaxis.label, ax.yaxis.label]) : item.set_fontsize(20)\n",
    "for item in (ax.get_xticklabels() + ax.get_yticklabels()) : item.set_fontsize(12)\n",
    "for item in ([ax.xaxis.label, ax.yaxis.label]) : item.set_fontsize(18)\n",
    "for item in ([ax.title]) : item.set_fontsize(22)\n",
    "for item in (ax.get_legend().get_texts()) : item.set_fontsize(18)\n",
    "    \n",
    "path = r'D:\\PythonPrjkt\\Instacart Basket Analysis\\04_Analysis\\Visualizations'\n",
    "ax.figure.savefig(os.path.join(path,'Highest Revenue Generating Hour.png'))"
   ]
  },
  {
   "cell_type": "code",
   "execution_count": 85,
   "id": "08932719",
   "metadata": {},
   "outputs": [
    {
     "data": {
      "image/png": "[encoded data removed]",
      "text/plain": [
       "<Figure size 720x360 with 1 Axes>"
      ]
     },
     "metadata": {
      "needs_background": "light"
     },
     "output_type": "display_data"
    }
   ],
   "source": [
    "\n",
    "pt = df.groupby('orders_day_of_week').agg({'prices': \"sum\"}).sort_index()\n",
    "\n",
    "ax = pt.plot.bar(title='Busiest Day Of Week',figsize=(10,5),ylabel=\"Counts\", fontsize='large')\n",
    "#for item in ([ax.title, ax.xaxis.label, ax.yaxis.label]) : item.set_fontsize(20)\n",
    "for item in (ax.get_xticklabels() + ax.get_yticklabels()) : item.set_fontsize(12)\n",
    "for item in ([ax.xaxis.label, ax.yaxis.label]) : item.set_fontsize(18)\n",
    "for item in ([ax.title]) : item.set_fontsize(22)\n",
    "for item in (ax.get_legend().get_texts()) : item.set_fontsize(18)\n",
    "    \n",
    "path = r'D:\\PythonPrjkt\\Instacart Basket Analysis\\04_Analysis\\Visualizations'\n",
    "ax.figure.savefig(os.path.join(path,'Busiest Day Of Week.png'))"
   ]
  },
  {
   "cell_type": "markdown",
   "id": "5b8d47ef",
   "metadata": {},
   "source": [
    "### contents\n",
    "### customize chart (legend,Axes,title fonts sizes etc), scatter plot and bar chart\n",
    "### All final charts for the project"
   ]
  }
 ],
 "metadata": {
  "kernelspec": {
   "display_name": "Python 3 (ipykernel)",
   "language": "python",
   "name": "python3"
  },
  "language_info": {
   "codemirror_mode": {
    "name": "ipython",
    "version": 3
   },
   "file_extension": ".py",
   "mimetype": "text/x-python",
   "name": "python",
   "nbconvert_exporter": "python",
   "pygments_lexer": "ipython3",
   "version": "3.9.7"
  }
 },
 "nbformat": 4,
 "nbformat_minor": 5
}
